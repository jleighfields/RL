{
 "cells": [
  {
   "cell_type": "markdown",
   "metadata": {},
   "source": [
    "# Reinforcement Learning to Control a Robot Arm\n",
    "\n",
    "This notebook is on based a reinforcement learning assignment in Professor Chuck Anderson's machine learning course (CS545) at Colorado State University and is shared here with his permission. Changes to the original notebook include:\n",
    "\n",
    "* Neural network implementation in `Pytorch`, including GPU set up\n",
    "* Augmented state functions to include polar coordinates\n",
    "* Variable goal states\n",
    "\n",
    "The Robot class and state functions have been slightly modified to allow for random goal generation, otherwise the `Robot` class and `state` code is left as is from the assignment."
   ]
  },
  {
   "cell_type": "markdown",
   "metadata": {},
   "source": [
    "## Overview of problem setup\n",
    "\n",
    "This notebook walks through a Reinforcement Learning (RL) set up for a simulation of a two-dimensional robot arm with multiple links and joints. A neural network is used to approximate the Q function to predict the reinforcements from each action given a state. The reinforcement is the distance to a goal for the end of the robot's arm, and lower reinforcements are better.\n",
    "\n",
    "The state of the arm is the angles of each joint. Joint angles are represented with the sine and cosine of the angle, to deal with the discontinuity between 1 and 359 degrees, as the state input to the neural network. The addition of polar coordinates to the state is also tested to see if this helps learning. Valid actions on each step will be $-0.1$, $0$, and $+0.1$ applied to each joint.\n",
    "\n",
    "The Q function is modeled with neural network built using `Pytorch`, this is refered to as the `Qnet` throughout the notebook. The Pytorch implementation includes flags for running on the `cpu` and `gpu`.  Model architecture is defined in the `MLP` class and the number and size of layers is defined dynamically using inputs to the call to the constructor. Normalization layers are also added by default to help with model training. Traditional data normalization is challenging in RL models since the training data is generated during training and we don't know the means and standard deviations before training. Adding layer normalization seems to have helped in this regard by improving the accuracy and speed of training.\n",
    "\n",
    "After initial testing of the training functions, a parameter grid search is performed in order to find a good model that can handle a variable goal state. Training results are sorted by the mean reinforcement, R, for the last 20 training trials and the model with the lowest mean reinforcement is selected as the best model. Plots and animations are constructed to visualize training the performance of the combinations of parameters."
   ]
  },
  {
   "cell_type": "markdown",
   "metadata": {},
   "source": [
    "## Set up"
   ]
  },
  {
   "cell_type": "code",
   "execution_count": 1,
   "metadata": {
    "ExecuteTime": {
     "end_time": "2020-12-09T17:24:28.116772Z",
     "start_time": "2020-12-09T17:24:27.894751Z"
    }
   },
   "outputs": [],
   "source": [
    "import numpy as np\n",
    "import pandas as pd\n",
    "from sklearn.model_selection import ParameterGrid\n",
    "import copy\n",
    "import matplotlib.pyplot as plt\n",
    "import seaborn as sns\n",
    "import sys\n",
    "import itertools  # for product (cross product)\n",
    "from math import pi\n",
    "from IPython.display import display, clear_output\n",
    "import time\n",
    "import joblib"
   ]
  },
  {
   "cell_type": "code",
   "execution_count": 2,
   "metadata": {},
   "outputs": [],
   "source": [
    "# set plot size parameter\n",
    "plt.rcParams[\"figure.figsize\"] = (8,4.5)"
   ]
  },
  {
   "cell_type": "markdown",
   "metadata": {},
   "source": [
    "Import packages for model training."
   ]
  },
  {
   "cell_type": "code",
   "execution_count": 3,
   "metadata": {},
   "outputs": [],
   "source": [
    "# import dl and ml packages\n",
    "import torch\n",
    "import torch.nn as nn\n",
    "import torch.nn.functional as F\n",
    "\n",
    "from sklearn.model_selection import ParameterGrid\n",
    "from datetime import datetime"
   ]
  },
  {
   "cell_type": "code",
   "execution_count": 4,
   "metadata": {},
   "outputs": [
    {
     "data": {
      "text/plain": [
       "True"
      ]
     },
     "execution_count": 4,
     "metadata": {},
     "output_type": "execute_result"
    }
   ],
   "source": [
    "# see if the GPU is available \n",
    "torch.cuda.is_available()"
   ]
  },
  {
   "cell_type": "code",
   "execution_count": 5,
   "metadata": {},
   "outputs": [
    {
     "data": {
      "text/plain": [
       "0"
      ]
     },
     "execution_count": 5,
     "metadata": {},
     "output_type": "execute_result"
    }
   ],
   "source": [
    "# current gpu device number\n",
    "torch.cuda.current_device()"
   ]
  },
  {
   "cell_type": "code",
   "execution_count": 6,
   "metadata": {},
   "outputs": [
    {
     "name": "stdout",
     "output_type": "stream",
     "text": [
      "cuda:0\n"
     ]
    }
   ],
   "source": [
    "# This will set the device based on the GPUs availability\n",
    "# the device will be updated later to test running on the GPU and CPU\n",
    "if torch.cuda.is_available():\n",
    "    torch.cuda.set_device(0)\n",
    "    device = \"cuda:\" + str(torch.cuda.current_device())\n",
    "else:  \n",
    "    device = \"cpu\"\n",
    "    \n",
    "print(device)"
   ]
  },
  {
   "cell_type": "markdown",
   "metadata": {},
   "source": [
    "# `Robot` Class\n",
    "\n",
    "Here is an implementation of the robot simulation:"
   ]
  },
  {
   "cell_type": "code",
   "execution_count": 7,
   "metadata": {
    "ExecuteTime": {
     "end_time": "2020-12-09T17:35:19.730301Z",
     "start_time": "2020-12-09T17:35:19.720367Z"
    }
   },
   "outputs": [],
   "source": [
    "class Robot():\n",
    "\n",
    "    def __init__(self, link_lengths):\n",
    "        self.n_links = len(link_lengths)\n",
    "        self.record_angles = False\n",
    "        self.angles = []\n",
    "        self.link_lengths = np.array(link_lengths)\n",
    "        self.joint_angles = np.zeros(self.n_links)\n",
    "        self.points = [[10, 10] for _ in range(self.n_links + 1)]\n",
    "        self.lim = sum(link_lengths)\n",
    "        self.update_points()\n",
    "        self.goal = None\n",
    "\n",
    "    def set_goal(self, g):\n",
    "        self.goal = g\n",
    "        \n",
    "    def set_rand_goal(self):\n",
    "        theta = np.random.uniform(0, 2*pi)\n",
    "        radius = np.random.uniform(0, self.lim * 1.1)\n",
    "        x = radius*np.cos(theta)\n",
    "        y = radius*np.sin(theta)\n",
    "        self.goal = [x+10,y+10]\n",
    "        return None\n",
    "    \n",
    "    def get_goal(self):\n",
    "        return self.goal\n",
    "    \n",
    "    def get_theta_r_goal(self):\n",
    "        goal = robot.get_goal()\n",
    "        goal = [goal[0]-10, goal[1]-10]\n",
    "        theta = np.arctan2(goal[0],goal[1])-pi/2\n",
    "        r = np.sqrt(np.sum(goal)**2)\n",
    "        return [theta, r]\n",
    "\n",
    "    def dist_to_goal(self):\n",
    "        return np.sqrt(np.sum((self.goal - self.end_effector)**2))\n",
    "    \n",
    "    def update_joints(self, joint_angles):\n",
    "        self.joint_angles = joint_angles\n",
    "        self.update_points()\n",
    "\n",
    "    def add_to_joints(self, joint_angle_deltas):\n",
    "        \n",
    "        if isinstance(joint_angle_deltas, torch.Tensor):\n",
    "            joint_angle_deltas = joint_angle_deltas.numpy()\n",
    "        \n",
    "        self.joint_angles += joint_angle_deltas\n",
    "        too_high = self.joint_angles > 2 * pi\n",
    "        self.joint_angles[too_high] = self.joint_angles[too_high] - 2 * pi\n",
    "        too_low = self.joint_angles < 0\n",
    "        self.joint_angles[too_low] = self.joint_angles[too_low] + 2 * pi\n",
    "        if self.record_angles:\n",
    "            self.angles.append(self.joint_angles * 180 / pi)\n",
    "        self.update_points()\n",
    "\n",
    "    def update_points(self):\n",
    "        for i in range(1, self.n_links + 1):\n",
    "            self.points[i][0] = (self.points[i - 1][0]\n",
    "                                 + self.link_lengths[i - 1] * np.cos(np.sum(self.joint_angles[:i])))\n",
    "            self.points[i][1] = (self.points[i - 1][1] +\n",
    "                                 self.link_lengths[i - 1] * np.sin(np.sum(self.joint_angles[:i])))\n",
    "        self.end_effector = np.array(self.points[self.n_links]).T\n",
    "\n",
    "    def get_angles(self):\n",
    "        return self.joint_angles\n",
    "    \n",
    "    def get_link_lengths(self):\n",
    "        return self.link_lengths\n",
    "        \n",
    "    def plot(self, style):\n",
    "        for i in range(self.n_links + 1):\n",
    "            if i is not self.n_links:\n",
    "                plt.plot([self.points[i][0], self.points[i + 1][0]],\n",
    "                         [self.points[i][1], self.points[i + 1][1]], style)\n",
    "            plt.plot(self.points[i][0], self.points[i][1], 'k.')\n",
    "        plt.axis('off')\n",
    "        plt.axis('square')\n",
    "        plt.xlim([-1, 21])\n",
    "        plt.ylim([-1, 21])\n",
    "\n",
    "    def animate(self, n_steps, Qnet=None, state_f=None, show_all_steps=False, device='cpu'):\n",
    "        fig = plt.figure(figsize=(8, 8))\n",
    "        \n",
    "        for i in range(n_steps):\n",
    "            if not show_all_steps:\n",
    "                fig.clf()\n",
    "            plt.scatter(self.goal[0], self.goal[1], s=80)\n",
    "            if Qnet:\n",
    "                action, Qvalue = epsilon_greedy(self, Qnet, valid_actions, state_f, epsilon=0, device=device)\n",
    "            else:\n",
    "                action = [0.1] * self.n_links\n",
    "                \n",
    "            self.add_to_joints(action)\n",
    "            style = 'b-' if show_all_steps and i+1 == n_steps else 'r-'\n",
    "            self.plot(style)\n",
    "            \n",
    "            if not show_all_steps:\n",
    "                clear_output(wait=True)\n",
    "                display(fig)\n",
    "            \n",
    "        if not show_all_steps:\n",
    "            clear_output(wait=True)"
   ]
  },
  {
   "cell_type": "markdown",
   "metadata": {},
   "source": [
    "To use this class, first instantiate a robot by specifying the number of links and the lengths of each link as a list.  Imagine the end of the last link of the robot has a gripper. Set the goal location for the gripper by calling `robot.set_goal()`.  \n",
    "\n",
    "Then you can animate the robot for some number of steps."
   ]
  },
  {
   "cell_type": "code",
   "execution_count": 8,
   "metadata": {
    "ExecuteTime": {
     "end_time": "2020-12-09T17:36:14.527793Z",
     "start_time": "2020-12-09T17:36:08.377221Z"
    }
   },
   "outputs": [
    {
     "name": "stdout",
     "output_type": "stream",
     "text": [
      "[16.24906468621839, 14.06989453272259]\n"
     ]
    }
   ],
   "source": [
    "robot = Robot([4, 3])\n",
    "#robot.set_goal([10, 10])\n",
    "robot.set_rand_goal()\n",
    "print(robot.get_goal())"
   ]
  },
  {
   "cell_type": "code",
   "execution_count": 9,
   "metadata": {},
   "outputs": [
    {
     "data": {
      "text/plain": [
       "[-0.5772749325481227, 10.318959218940979]"
      ]
     },
     "execution_count": 9,
     "metadata": {},
     "output_type": "execute_result"
    }
   ],
   "source": [
    "# goal in polar coordinates\n",
    "robot.get_theta_r_goal()"
   ]
  },
  {
   "cell_type": "code",
   "execution_count": 10,
   "metadata": {
    "ExecuteTime": {
     "end_time": "2020-12-09T17:36:14.527793Z",
     "start_time": "2020-12-09T17:36:08.377221Z"
    }
   },
   "outputs": [
    {
     "data": {
      "image/png": "[encoded data removed]",
      "text/plain": [
       "<Figure size 576x576 with 1 Axes>"
      ]
     },
     "metadata": {
      "needs_background": "light"
     },
     "output_type": "display_data"
    }
   ],
   "source": [
    "# animate the robot for 50 steps\n",
    "robot.animate(50)"
   ]
  },
  {
   "cell_type": "code",
   "execution_count": 11,
   "metadata": {
    "ExecuteTime": {
     "end_time": "2020-12-09T17:36:21.614552Z",
     "start_time": "2020-12-09T17:36:20.213402Z"
    }
   },
   "outputs": [
    {
     "data": {
      "image/png": "[encoded data removed]",
      "text/plain": [
       "<Figure size 576x576 with 1 Axes>"
      ]
     },
     "metadata": {
      "needs_background": "light"
     },
     "output_type": "display_data"
    }
   ],
   "source": [
    "# trace the steps of the robot\n",
    "robot = Robot([4, 3])\n",
    "robot.set_goal([4, 5])\n",
    "robot.animate(100, show_all_steps=True)"
   ]
  },
  {
   "cell_type": "markdown",
   "metadata": {},
   "source": [
    "# Reinforcement Learning Problem for Controlling the Robot"
   ]
  },
  {
   "cell_type": "markdown",
   "metadata": {},
   "source": [
    "From the original assignment:\n",
    "\n",
    "    To define the reinforcement learning problem for controlling this robot and trying to move the gripper as close to the goal as you can, we need to define the three main functions that define a reinforcement learning problem. These are pretty easy with the functions available to us in the `Robot` class. We will also need a function to represent the joint angles as sines and cosines.\n",
    "    \n",
    "State functions with `*_w_angles` were added. These functions add the polar coordinates to the state, thus they return the Cartesian and polar coordinates for the state and the goal."
   ]
  },
  {
   "cell_type": "code",
   "execution_count": 12,
   "metadata": {
    "ExecuteTime": {
     "end_time": "2020-12-09T17:36:32.901380Z",
     "start_time": "2020-12-09T17:36:32.898130Z"
    }
   },
   "outputs": [],
   "source": [
    "def angles_to_sin_cos(angles):\n",
    "    return np.hstack((np.sin(angles), np.cos(angles)))\n",
    "\n",
    "def get_state(robot):\n",
    "    state = np.hstack([angles_to_sin_cos(robot.get_angles()), robot.get_goal()]) \n",
    "    return state\n",
    "\n",
    "def get_state_w_angles(robot):\n",
    "    state = np.hstack([get_state(robot), # in cartesian coords\n",
    "                       robot.get_angles(), robot.get_link_lengths(), robot.get_theta_r_goal()]) \n",
    "    return state\n",
    "\n",
    "def initial_state(robot):\n",
    "    robot.update_joints(np.random.uniform(-2 * pi, 2 * pi, size=(robot.n_links)))\n",
    "    angles = robot.get_angles()\n",
    "    state = np.hstack([angles_to_sin_cos(robot.get_angles()), robot.get_goal()]) \n",
    "    return state\n",
    "\n",
    "def initial_state_w_angles(robot):\n",
    "    angles = robot.get_angles()\n",
    "    state = initial_state(robot)\n",
    "    angles = robot.get_angles()\n",
    "    state_w_state_angles = np.hstack([state, angles, robot.get_link_lengths(), robot.get_theta_r_goal()]) \n",
    "    return state_w_state_angles\n",
    "\n",
    "def next_state(robot, action):\n",
    "    robot.add_to_joints(action)\n",
    "    angles = robot.get_angles()\n",
    "    state = np.hstack([angles_to_sin_cos(robot.get_angles()), robot.get_goal()])\n",
    "    return state\n",
    "\n",
    "def next_state_w_angles(robot, action):\n",
    "    state = next_state(robot, action)\n",
    "    angles = robot.get_angles()\n",
    "    state_w_angles = np.hstack([state, angles, robot.get_link_lengths(), robot.get_theta_r_goal()])\n",
    "    return state_w_angles\n",
    "\n",
    "\n",
    "def reinforcement(robot):\n",
    "    '''Objective is to move gripper to the goal location as quickly as possible.'''\n",
    "    dist_to_goal = robot.dist_to_goal()\n",
    "    return dist_to_goal"
   ]
  },
  {
   "cell_type": "code",
   "execution_count": 13,
   "metadata": {},
   "outputs": [],
   "source": [
    "# set up state functions dictionary to pass into training functions\n",
    "def get_state_functions(polar_coord):\n",
    "    if polar_coord:\n",
    "        initial_state_f = initial_state_w_angles\n",
    "        next_state_f = next_state_w_angles\n",
    "        state_f = get_state_w_angles\n",
    "    else:\n",
    "        initial_state_f = initial_state\n",
    "        next_state_f = next_state\n",
    "        state_f = get_state\n",
    "        \n",
    "    return {'initial_state_f':initial_state_f, \n",
    "            'next_state_f':next_state_f,\n",
    "           'state_f':state_f}"
   ]
  },
  {
   "cell_type": "markdown",
   "metadata": {},
   "source": [
    "The two main functions used in the simulations are `epsilon_greedy` and `make_samples`.  `make_samples` creates a specified number steps for each training trial.  For each step in the trial, `make_samples` calls `epsilon_greedy` which uses the `Qnet` to predict the `R` for each action given the current state. If a greedy action is selected, then the action with the lowest predicted `R` is returned; otherwise, a random action is returned. These random actions help to explore the state-action space. Early in training, most actions are random, allowing the `Qnet` to gain experience in the space. But as training progresses, most actions are greedy.\n",
    "\n",
    "`epsilon_greedy` is also used in the `animate` function in the `robot` class to get the actions for the animations."
   ]
  },
  {
   "cell_type": "code",
   "execution_count": 14,
   "metadata": {
    "ExecuteTime": {
     "end_time": "2020-12-09T17:36:37.552899Z",
     "start_time": "2020-12-09T17:36:37.549482Z"
    }
   },
   "outputs": [],
   "source": [
    "def epsilon_greedy(robot, Qnet, \n",
    "                   valid_actions, \n",
    "                   state_f, \n",
    "                   epsilon, # probablity of a random move\n",
    "                   device\n",
    "                  ):\n",
    "    \n",
    "    # not using variable goal in training\n",
    "    # state = angles_to_sin_cos(robot.get_angles())\n",
    "    \n",
    "    # send Qnet to appropriate device\n",
    "    Qnet.to(device)\n",
    "    \n",
    "    state = state_f(robot)\n",
    "    \n",
    "    if np.random.uniform() < epsilon:\n",
    "        \n",
    "        # Random Move\n",
    "        actioni = np.random.randint(valid_actions.shape[0])\n",
    "        action = valid_actions[actioni]\n",
    "        \n",
    "    else:\n",
    "        # Greedy Move\n",
    "        \n",
    "        state_x = np.tile(state,valid_actions.shape[0]).reshape(valid_actions.shape[0],-1)\n",
    "        xs = torch.from_numpy(np.hstack([state_x, valid_actions])).float().to(device)\n",
    "        Qs = Qnet(xs).reshape(-1,1)\n",
    "        ai = torch.argmin(Qs)\n",
    "        action = valid_actions[ai]\n",
    "        \n",
    "    x = torch.from_numpy(np.hstack((state, action)).reshape((1, -1))).float().to(device)\n",
    "    Q = Qnet(x)\n",
    "    \n",
    "    return action, Q"
   ]
  },
  {
   "cell_type": "code",
   "execution_count": 15,
   "metadata": {
    "ExecuteTime": {
     "end_time": "2020-12-09T17:36:38.459890Z",
     "start_time": "2020-12-09T17:36:38.456052Z"
    }
   },
   "outputs": [],
   "source": [
    "def make_samples(robot, Qnet, n_inputs, reinforcement_f,\n",
    "                 valid_actions, n_samples, epsilon, \n",
    "                 state_funcs,\n",
    "                 random_goal=False,\n",
    "                 device=device):\n",
    "    \n",
    "    debug = False\n",
    "    \n",
    "    # get state functions from state_func dictionary\n",
    "    initial_state_f = state_funcs['initial_state_f'] \n",
    "    next_state_f = state_funcs['next_state_f'] \n",
    "    state_f = state_funcs['state_f']\n",
    "    \n",
    "    if debug: print('allocating vectors')\n",
    "    X = torch.from_numpy(np.zeros((n_samples, n_inputs))).to(device)\n",
    "    R = torch.from_numpy(np.zeros((n_samples, 1))).to(device)\n",
    "    Qn = torch.from_numpy(np.zeros((n_samples, 1))).to(device)\n",
    "    \n",
    "    if debug: print('setting up state')\n",
    "    # update random goal\n",
    "    if random_goal: \n",
    "        robot.set_rand_goal()\n",
    "        \n",
    "    state = initial_state_f(robot)\n",
    "    state = next_state_f(robot, [0] * robot.n_links)  # 0 action for all joints\n",
    "    action, _ = epsilon_greedy(robot, Qnet, valid_actions, state_f, epsilon, device)\n",
    "    \n",
    "    \n",
    "    # Collect data from numSamples steps\n",
    "    for step in range(n_samples):\n",
    "        \n",
    "        if debug: \n",
    "            print('_____________')\n",
    "            print(f'step: {step}')\n",
    "            print('setting up state')\n",
    "            \n",
    "        next_state = next_state_f(robot, action)\n",
    "        r = reinforcement_f(robot)\n",
    "        \n",
    "        if debug: print('epsilon greedy')\n",
    "        next_action, next_Q = epsilon_greedy(robot, Qnet, valid_actions, state_f, epsilon, device)\n",
    "        \n",
    "        if debug: print('save results')\n",
    "        X[step, :] = torch.from_numpy(np.hstack((state, action)))\n",
    "        R[step, 0] = r\n",
    "        Qn[step, 0] = torch.detach(next_Q)\n",
    "        \n",
    "        # Advance one time step\n",
    "        state, action = next_state, next_action\n",
    "\n",
    "    return (X, R, Qn)"
   ]
  },
  {
   "cell_type": "markdown",
   "metadata": {},
   "source": [
    "## `MLP` Class\n",
    "\n",
    "This defines a class to construct an MLP using Pytorch. The inputs to the constructor are a follows:\n",
    "* input_size: the number of variables in the state-action space (i.e. number of columns in X)\n",
    "* h_sizes: a list with number of hidden units in each layer, `[20,10]` constructs a two layer model with `20` and `10` hidden units respectively\n",
    "* n_out: the dimension of the output (i.e. the number of columns in Y)\n",
    "* act_func: the activation function to use, currently supports \"tanh, \"elu\", \"relu\", \"sigmoid\"\n",
    "* use_layer_norm: Boolean flag for adding layer normalization\n",
    "\n",
    "The number and size of the layers is dynamically defined using `h_sizes`. In the constructor, this is converted to an `nn.ModuleList`, so the layers will be tracked and the layer weights saved when check pointing the model. The `forward` function calculates a forward pass based the model definition that is used by Pytorch to set up the automatic differentiation in the backwards pass updates. `model_to_dict` is a convenience function to save the model definition to a dictionary, so the model can be recreated from file and the check pointed weights loaded into the model."
   ]
  },
  {
   "cell_type": "code",
   "execution_count": 16,
   "metadata": {},
   "outputs": [],
   "source": [
    "# see this excellent article on normalization techniques\n",
    "# https://mlexplained.com/2018/11/30/an-overview-of-normalization-methods-in-deep-learning/\n",
    "\n",
    "class MLP(nn.Module):\n",
    "\n",
    "    def __init__(self, input_size, h_sizes, n_out, act_func = 'tanh', use_layer_norm=True):\n",
    "    \n",
    "        '''act_func: one of \"tanh, \"elu\", \"relu\", \"sigmoid\"\n",
    "                     defaults to \"tanh\"   \n",
    "        '''\n",
    "    \n",
    "        super(MLP, self).__init__()\n",
    "        \n",
    "        self.input_size = input_size\n",
    "        self.h_sizes = h_sizes\n",
    "        self.n_out = n_out\n",
    "        self.act_func = act_func\n",
    "        self.use_layer_norm = use_layer_norm\n",
    "\n",
    "        \n",
    "        # Hidden layers\n",
    "        # use nn.ModuleList() so layers will avaible in state_dict\n",
    "        self.hidden = nn.ModuleList()\n",
    "        \n",
    "        \n",
    "        # layer normalization layers\n",
    "        if self.use_layer_norm:\n",
    "            self.ln = nn.ModuleList()\n",
    "        else:\n",
    "            self.ln = None\n",
    "                \n",
    "        \n",
    "        # create a list of layer sizes to use in model construction\n",
    "        sizes = [input_size] + h_sizes # + [n_out]\n",
    "        \n",
    "        \n",
    "        # build model\n",
    "        for k in range(len(sizes)-1):\n",
    "            self.hidden.append(nn.Linear(sizes[k], sizes[k+1]))\n",
    "            if self.use_layer_norm:\n",
    "                self.ln.append(nn.LayerNorm(sizes[k+1]))\n",
    "\n",
    "                \n",
    "        # Output layer\n",
    "        self.out = nn.Linear(sizes[-1], self.n_out)\n",
    "        \n",
    "        \n",
    "    # save model architecture to dictionary\n",
    "    def model_to_dict(self):\n",
    "        \n",
    "        model_dict = {'input_size':self.input_size,\n",
    "                     'h_sizes':self.h_sizes,\n",
    "                     'n_out':self.n_out,\n",
    "                     'act_func':self.act_func,\n",
    "                     'use_layer_norm':self.use_layer_norm}\n",
    "        \n",
    "        return(model_dict)\n",
    "\n",
    "    \n",
    "    # forward pass calculation\n",
    "    def forward(self, x):\n",
    "        \n",
    "        # set activation function\n",
    "        if self.act_func == 'elu':\n",
    "            act = nn.ELU()\n",
    "        elif self.act_func == 'relu':\n",
    "            act = nn.ReLU()\n",
    "        elif self.act_func == 'sigmoid':\n",
    "            act = nn.Sigmoid()\n",
    "        else: # default to tanh\n",
    "            act = nn.Tanh()\n",
    "        \n",
    "        \n",
    "        # x needs to be torch tensor\n",
    "        if type(x) == 'numpy.ndarray':\n",
    "            x = torch.from_numpy(x).float()\n",
    "            \n",
    "            \n",
    "        # Feedforward\n",
    "        for i in range(len(self.hidden)):\n",
    "            layer = self.hidden[i]\n",
    "            if self.use_layer_norm:\n",
    "                ln = self.ln[i]\n",
    "                x = act(ln(layer(x)))\n",
    "            else:\n",
    "                x = act(layer(x))\n",
    "            \n",
    "        output= self.out(x)\n",
    "\n",
    "        return output"
   ]
  },
  {
   "cell_type": "code",
   "execution_count": 17,
   "metadata": {},
   "outputs": [
    {
     "data": {
      "text/plain": [
       "{'input_size': 10,\n",
       " 'h_sizes': [20, 20],\n",
       " 'n_out': 1,\n",
       " 'act_func': 'elu',\n",
       " 'use_layer_norm': True}"
      ]
     },
     "execution_count": 17,
     "metadata": {},
     "output_type": "execute_result"
    }
   ],
   "source": [
    "test = MLP(10, [20,20], 1, 'elu')\n",
    "test.model_to_dict()"
   ]
  },
  {
   "cell_type": "code",
   "execution_count": 18,
   "metadata": {},
   "outputs": [
    {
     "data": {
      "text/plain": [
       "ModuleList(\n",
       "  (0): Linear(in_features=10, out_features=20, bias=True)\n",
       "  (1): Linear(in_features=20, out_features=20, bias=True)\n",
       ")"
      ]
     },
     "execution_count": 18,
     "metadata": {},
     "output_type": "execute_result"
    }
   ],
   "source": [
    "test.hidden"
   ]
  },
  {
   "cell_type": "code",
   "execution_count": 19,
   "metadata": {},
   "outputs": [
    {
     "data": {
      "text/plain": [
       "ModuleList(\n",
       "  (0): LayerNorm((20,), eps=1e-05, elementwise_affine=True)\n",
       "  (1): LayerNorm((20,), eps=1e-05, elementwise_affine=True)\n",
       ")"
      ]
     },
     "execution_count": 19,
     "metadata": {},
     "output_type": "execute_result"
    }
   ],
   "source": [
    "test.ln"
   ]
  },
  {
   "cell_type": "markdown",
   "metadata": {},
   "source": [
    "# Reinforcement Learning Training Algorithm\n",
    "\n",
    "The `train` function wraps up all of the previous work into a function that can be used for setting up training.  Its inputs are:\n",
    "* robot: member of the robot class to model \n",
    "* state_funcs: a dictionary containing the state functions with the keys - 'initial_state_f', 'next_state_f', 'state_f'\n",
    "* valid_actions: an array of all the permutations of possible actions\n",
    "* n_hiddens_list: list containing the sizes of the hidden layers\n",
    "* n_trials: number of training trails to run (i.e, the number of calls to `make_samples`)\n",
    "* n_steps_per_trial: the number of steps created in each call to `make_samples`\n",
    "* n_opt_iterations: the number of steps taken by the optimizer after each call to `make_samples`\n",
    "* final_epsilon: the final probability for taking a random move\n",
    "* gamma: the discount rate for future reinforcements\n",
    "* learning_rate: step size for the optimizer\n",
    "* act_func: activation function to use in the MLP\n",
    "* random_goal: boolean flag for generating a random goal for run of `make_samples`\n",
    "* device: GPU or CPU string, like 'cpu' or 'cuda:0'\n",
    "\n",
    "This function returns the trained Qnet and traces from the training."
   ]
  },
  {
   "cell_type": "code",
   "execution_count": 20,
   "metadata": {
    "ExecuteTime": {
     "end_time": "2020-11-19T19:17:17.967001Z",
     "start_time": "2020-11-19T19:17:17.960524Z"
    }
   },
   "outputs": [],
   "source": [
    "# define weights initialization function\n",
    "# first checks the module type\n",
    "# then applies the desired changes to the weights\n",
    "def init_normal(m):\n",
    "    if type(m) == nn.Linear:\n",
    "        nn.init.uniform_(m.weight)\n",
    "\n",
    "\n",
    "def train(robot, polar_coord, valid_actions,\n",
    "          n_hiddens_list,\n",
    "          n_trials,\n",
    "          n_steps_per_trial,\n",
    "          n_opt_iterations,\n",
    "          final_epsilon,\n",
    "          gamma, \n",
    "          learning_rate,\n",
    "          act_func='tanh',\n",
    "          random_goal=False,\n",
    "          device=device\n",
    "         ):\n",
    "        \n",
    "        \n",
    "    # get state_funcs based on boolean value of polar_coord\n",
    "    state_funcs = get_state_functions(polar_coord)\n",
    "        \n",
    "        \n",
    "    # get state functions from state_func dictionary\n",
    "    initial_state_f = state_funcs['initial_state_f'] \n",
    "    next_state_f = state_funcs['next_state_f'] \n",
    "    state_f = state_funcs['state_f']\n",
    "    \n",
    "    \n",
    "    # flag for printing losses\n",
    "    print_losses = False\n",
    "    \n",
    "    \n",
    "    # to produce this final epsilon value\n",
    "    final_trial_decay = (n_trials-20) if (n_trials-20) > 20 else n_trials\n",
    "    epsilon_decay = np.exp(np.log(final_epsilon+0.00001) / (final_trial_decay))  \n",
    "    \n",
    "    \n",
    "    # put valid_actions on device\n",
    "    valid_actions = torch.from_numpy(valid_actions)\n",
    "    valid_actions.to(device)\n",
    "    \n",
    "    \n",
    "    # instantiate Qnet\n",
    "    n_inputs = len(initial_state_f(robot)) + valid_actions.shape[1]\n",
    "    Qnet = MLP(n_inputs, n_hiddens_list, n_out=1, act_func=act_func)\n",
    "    Qnet.to(device)\n",
    "\n",
    "    \n",
    "    # apply the initialization strategy to the model weights\n",
    "    Qnet.apply(init_normal)\n",
    "        \n",
    "    \n",
    "    # define loss function\n",
    "    loss_fn = torch.nn.MSELoss(reduction='mean')\n",
    "\n",
    "    \n",
    "    # Use the optim module to define an Optimizer that will update the model weights\n",
    "    optimizer = torch.optim.Adam(Qnet.parameters(), lr=learning_rate)\n",
    "\n",
    "    \n",
    "    # initial epsilon value for taking random or greedy actions\n",
    "    epsilon = 1         \n",
    "    epsilon_trace = []\n",
    "    r_mean_trace = []\n",
    "    r_trace = []\n",
    "    loss_trace = []\n",
    "    \n",
    "    \n",
    "    print('Starting trials')\n",
    "    print('______________________________________________\\n')\n",
    "    \n",
    "    \n",
    "    # start learning trials\n",
    "    for trial in range(n_trials):\n",
    "        \n",
    "        # Collect n_steps_per_trial samples\n",
    "        X, R, Qn = make_samples(robot, Qnet, n_inputs, \n",
    "                                reinforcement, valid_actions, \n",
    "                                n_steps_per_trial, epsilon, \n",
    "                                state_funcs,\n",
    "                                random_goal,\n",
    "                                device)\n",
    "        \n",
    "        # create targets for Qnet\n",
    "        y = (R + gamma * Qn).float()\n",
    "    \n",
    "        # train Qnet\n",
    "        for t in range(n_opt_iterations):\n",
    "            \n",
    "            # Forward pass\n",
    "            y_pred = Qnet(X.float())\n",
    "\n",
    "            # Compute and print loss\n",
    "            loss = loss_fn(y_pred, y)\n",
    "            \n",
    "            if print_losses and t % 100 == 99:\n",
    "                print(t, loss.item())\n",
    "\n",
    "            # Zero gradients, perform a backward pass, and update the weights\n",
    "            optimizer.zero_grad()\n",
    "            loss.backward()\n",
    "            optimizer.step()\n",
    "            \n",
    "        \n",
    "        # Update traces\n",
    "        epsilon_trace = epsilon_trace + [epsilon]\n",
    "        r_mean_trace = r_mean_trace + [np.mean(R.cpu().numpy())]\n",
    "        r_trace = r_trace + list(itertools.chain.from_iterable(R))\n",
    "        loss_trace = loss_trace + [loss_fn(y_pred, y).detach().cpu().numpy()]\n",
    "        \n",
    "        \n",
    "        # Decay epsilon for taking greedy or random actions\n",
    "        epsilon *= epsilon_decay\n",
    "        \n",
    "        \n",
    "        # print training progress\n",
    "        n_prints = np.min([250, (n_trials // 10)])\n",
    "        # if trial + 1 == n_trials or (trial + 1) % (n_trials // 10) == 0:\n",
    "        if trial + 1 == n_trials or (trial + 1) % (n_prints) == 0:\n",
    "            r = np.mean(r_mean_trace[-10:])\n",
    "            l = np.mean(loss_trace[-10:])\n",
    "            print(f'Trial - {trial+1}: Mean R {r:.3f} - MSE loss {l:.3f}')\n",
    "             \n",
    "    return Qnet, state_funcs, r_mean_trace, r_trace, loss_trace, epsilon_trace"
   ]
  },
  {
   "cell_type": "markdown",
   "metadata": {},
   "source": [
    "## Test Training\n",
    "* Instantiate robot\n",
    "* Set up action space\n",
    "* Get state\n",
    "* Set training parameters\n",
    "* Run train function\n",
    "* Build plots and animations"
   ]
  },
  {
   "cell_type": "code",
   "execution_count": 21,
   "metadata": {
    "ExecuteTime": {
     "end_time": "2020-12-09T17:36:45.160787Z",
     "start_time": "2020-12-09T17:36:45.158717Z"
    }
   },
   "outputs": [
    {
     "data": {
      "text/plain": [
       "array([[-0.1, -0.1],\n",
       "       [-0.1,  0. ],\n",
       "       [-0.1,  0.1],\n",
       "       [ 0. , -0.1],\n",
       "       [ 0. ,  0. ],\n",
       "       [ 0. ,  0.1],\n",
       "       [ 0.1, -0.1],\n",
       "       [ 0.1,  0. ],\n",
       "       [ 0.1,  0.1]])"
      ]
     },
     "execution_count": 21,
     "metadata": {},
     "output_type": "execute_result"
    }
   ],
   "source": [
    "# set up a matrix of valid actions to choose from\n",
    "single_joint_actions = [-0.1, 0, 0.1]\n",
    "valid_actions =  np.array(list(itertools.product(single_joint_actions, repeat=robot.n_links)))\n",
    "valid_actions"
   ]
  },
  {
   "cell_type": "markdown",
   "metadata": {},
   "source": [
    "### Train with a Fixed Goal and without Polar Coordinates\n",
    "\n",
    "For this first test, I'll train the model without the use of polar coordinates in the state space. I'll run the experiment with a larger number of trials compared to the number of samples in each trial. This will give the model more experience learning the state-action space since the Qnet is updated after each trial. This model will be trained with a fixed goal. Since this is for testing, using a fixed goal will reduced the training time needed to ensure that the components are working correctly. After these tests are completed, then I'll test on a variable goal model."
   ]
  },
  {
   "cell_type": "code",
   "execution_count": 22,
   "metadata": {
    "ExecuteTime": {
     "end_time": "2020-12-09T17:38:10.790771Z",
     "start_time": "2020-12-09T17:37:04.633494Z"
    }
   },
   "outputs": [],
   "source": [
    "# instantiate robot and set goal\n",
    "robot = Robot([3., 3.])\n",
    "robot.set_goal([5., 6.])\n",
    "\n",
    "# set up parameters for training\n",
    "n_hiddens_list = [64, 64]\n",
    "n_trials = 1000\n",
    "n_steps_per_trial = 128\n",
    "n_opt_iterations = 10\n",
    "final_epsilon = 0.01\n",
    "gamma = 0.8\n",
    "learning_rate = 0.001\n",
    "act_func = 'relu'\n",
    "random_goal = False\n",
    "polar_coord = False\n",
    "device = 'cpu'\n"
   ]
  },
  {
   "cell_type": "code",
   "execution_count": 23,
   "metadata": {
    "ExecuteTime": {
     "end_time": "2020-12-09T17:38:10.790771Z",
     "start_time": "2020-12-09T17:37:04.633494Z"
    }
   },
   "outputs": [
    {
     "name": "stdout",
     "output_type": "stream",
     "text": [
      "Starting trials\n",
      "______________________________________________\n",
      "\n",
      "Trial - 100: Mean R 4.248 - MSE loss 1.764\n",
      "Trial - 200: Mean R 1.683 - MSE loss 0.251\n",
      "Trial - 300: Mean R 1.545 - MSE loss 0.146\n",
      "Trial - 400: Mean R 1.476 - MSE loss 0.128\n",
      "Trial - 500: Mean R 1.253 - MSE loss 0.067\n",
      "Trial - 600: Mean R 1.189 - MSE loss 0.070\n",
      "Trial - 700: Mean R 1.585 - MSE loss 0.041\n",
      "Trial - 800: Mean R 1.155 - MSE loss 0.047\n",
      "Trial - 900: Mean R 0.953 - MSE loss 0.016\n",
      "Trial - 1000: Mean R 0.956 - MSE loss 0.016\n",
      "elapsed minutes: 3.12507909933726\n"
     ]
    }
   ],
   "source": [
    "# train RL model\n",
    "np.random.seed(42)\n",
    "torch.manual_seed(42)\n",
    "\n",
    "    \n",
    "t0 = time.time()\n",
    "Qnet, _, r_mean_trace, _, loss_trace, epsilon_trace = train(robot, polar_coord, valid_actions,\n",
    "                                                         n_hiddens_list,  \n",
    "                                                         n_trials,\n",
    "                                                         n_steps_per_trial, \n",
    "                                                         n_opt_iterations,\n",
    "                                                         final_epsilon, \n",
    "                                                         gamma, \n",
    "                                                         learning_rate,\n",
    "                                                         act_func,\n",
    "                                                         random_goal,\n",
    "                                                         device\n",
    "                                                         )\n",
    "t1 = time.time()\n",
    "\n",
    "print(f'elapsed minutes: {(t1-t0)/60}')"
   ]
  },
  {
   "cell_type": "code",
   "execution_count": 24,
   "metadata": {},
   "outputs": [
    {
     "name": "stdout",
     "output_type": "stream",
     "text": [
      "Starting trials\n",
      "______________________________________________\n",
      "\n",
      "Trial - 100: Mean R 4.675 - MSE loss 1.615\n",
      "Trial - 200: Mean R 1.602 - MSE loss 0.323\n",
      "Trial - 300: Mean R 1.434 - MSE loss 0.181\n",
      "Trial - 400: Mean R 1.424 - MSE loss 0.140\n",
      "Trial - 500: Mean R 1.398 - MSE loss 0.079\n",
      "Trial - 600: Mean R 1.219 - MSE loss 0.082\n",
      "Trial - 700: Mean R 1.518 - MSE loss 0.037\n",
      "Trial - 800: Mean R 1.019 - MSE loss 0.040\n",
      "Trial - 900: Mean R 1.147 - MSE loss 0.014\n",
      "Trial - 1000: Mean R 1.002 - MSE loss 0.015\n",
      "elapsed minutes: 2.6572440028190614\n"
     ]
    }
   ],
   "source": [
    "device = 'cuda:0'\n",
    "\n",
    "# train RL model\n",
    "np.random.seed(42)\n",
    "torch.manual_seed(42)\n",
    "\n",
    "    \n",
    "t0 = time.time()\n",
    "Qnet, state_funcs, r_mean_trace, _, loss_trace, epsilon_trace = train(robot, polar_coord, valid_actions,\n",
    "                                                         n_hiddens_list,  \n",
    "                                                         n_trials,\n",
    "                                                         n_steps_per_trial, \n",
    "                                                         n_opt_iterations,\n",
    "                                                         final_epsilon, \n",
    "                                                         gamma, \n",
    "                                                         learning_rate,\n",
    "                                                         act_func,\n",
    "                                                         random_goal,\n",
    "                                                         device\n",
    "                                                         )\n",
    "t1 = time.time()\n",
    "\n",
    "print(f'elapsed minutes: {(t1-t0)/60}')"
   ]
  },
  {
   "cell_type": "code",
   "execution_count": 25,
   "metadata": {},
   "outputs": [],
   "source": [
    "# save experiment in dictionary\n",
    "experiment_test = {'params':None, \n",
    "                'r_mean_trace_list':[r_mean_trace],\n",
    "                'loss_trace_list':[loss_trace],\n",
    "                'epsilon_trace_list':[epsilon_trace],\n",
    "                'robot':robot,\n",
    "                'best_Qnet_model':Qnet.model_to_dict(),\n",
    "                'checkpoint':{'state_dict': Qnet.state_dict()}}"
   ]
  },
  {
   "cell_type": "markdown",
   "metadata": {},
   "source": [
    "#### Test saving and loading Qnet from file"
   ]
  },
  {
   "cell_type": "code",
   "execution_count": 26,
   "metadata": {},
   "outputs": [
    {
     "data": {
      "text/plain": [
       "['Qnet_model_test.joblib']"
      ]
     },
     "execution_count": 26,
     "metadata": {},
     "output_type": "execute_result"
    }
   ],
   "source": [
    "# save model definition and wieghts\n",
    "torch.save({'state_dict': Qnet.state_dict()}, 'experiment/Qnet_state_test.pth')\n",
    "joblib.dump(Qnet.model_to_dict(), 'experiment/Qnet_model_test.joblib')"
   ]
  },
  {
   "cell_type": "code",
   "execution_count": 27,
   "metadata": {},
   "outputs": [
    {
     "data": {
      "text/plain": [
       "{'input_size': 8,\n",
       " 'h_sizes': [64, 64],\n",
       " 'n_out': 1,\n",
       " 'act_func': 'relu',\n",
       " 'use_layer_norm': True}"
      ]
     },
     "execution_count": 27,
     "metadata": {},
     "output_type": "execute_result"
    }
   ],
   "source": [
    "# load dictionary with the model definition for the best Qnet\n",
    "Qnet_model = joblib.load('experiment/Qnet_model_test.joblib')\n",
    "Qnet_model"
   ]
  },
  {
   "cell_type": "code",
   "execution_count": 28,
   "metadata": {},
   "outputs": [
    {
     "data": {
      "text/plain": [
       "{'input_size': 8,\n",
       " 'h_sizes': [64, 64],\n",
       " 'n_out': 1,\n",
       " 'act_func': 'relu',\n",
       " 'use_layer_norm': True}"
      ]
     },
     "execution_count": 28,
     "metadata": {},
     "output_type": "execute_result"
    }
   ],
   "source": [
    "# build model from definition\n",
    "Qnet = MLP(Qnet_model['input_size'], \n",
    "           Qnet_model['h_sizes'],\n",
    "           Qnet_model['n_out'],\n",
    "           Qnet_model['act_func'],\n",
    "           Qnet_model['use_layer_norm'])\n",
    "\n",
    "Qnet.model_to_dict()"
   ]
  },
  {
   "cell_type": "code",
   "execution_count": 29,
   "metadata": {},
   "outputs": [
    {
     "data": {
      "text/plain": [
       "<All keys matched successfully>"
      ]
     },
     "execution_count": 29,
     "metadata": {},
     "output_type": "execute_result"
    }
   ],
   "source": [
    "# load model state from best Qnet\n",
    "checkpoint = torch.load('experiment/Qnet_state_test.pth')\n",
    "\n",
    "# load model weights from best Qnet\n",
    "Qnet.load_state_dict(checkpoint['state_dict'])"
   ]
  },
  {
   "cell_type": "code",
   "execution_count": 30,
   "metadata": {},
   "outputs": [],
   "source": [
    "# define function to plot experiment\n",
    "def plot_experiment(experiment, index=0):\n",
    "    '''experiment is a dictionary containing:\n",
    "        params - DataFrame containing parameters and Qnet\n",
    "        r_mean_trace_list - list containing r_mean_traces from trials\n",
    "        r_trace_list - list containing r_traces from trials\n",
    "        epsilon_trace_list - list containing epsilon_traces from trials'''\n",
    "    \n",
    "    plt.figure(figsize=(10, 10))\n",
    "    plt.clf()\n",
    "    plt.subplot(3, 1, 1)\n",
    "    plt.plot(experiment['r_mean_trace_list'][index])\n",
    "    plt.xlabel('Trial')\n",
    "    plt.ylabel('Mean R per Trial')\n",
    "\n",
    "    plt.subplot(3, 1, 2)\n",
    "    plt.plot(experiment['loss_trace_list'][index])\n",
    "    plt.xlabel('Trial')\n",
    "    plt.ylabel('MSE')\n",
    "\n",
    "    plt.subplot(3, 1, 3)\n",
    "    plt.plot(experiment['epsilon_trace_list'][index])\n",
    "    plt.xlabel('Trial')\n",
    "    plt.ylabel('Epsilon')"
   ]
  },
  {
   "cell_type": "code",
   "execution_count": 31,
   "metadata": {},
   "outputs": [
    {
     "data": {
      "image/png": "[encoded data removed]",
      "text/plain": [
       "<Figure size 720x720 with 3 Axes>"
      ]
     },
     "metadata": {
      "needs_background": "light"
     },
     "output_type": "display_data"
    }
   ],
   "source": [
    "# plot training traces\n",
    "plot_experiment(experiment_test)"
   ]
  },
  {
   "cell_type": "code",
   "execution_count": 32,
   "metadata": {
    "ExecuteTime": {
     "end_time": "2020-12-09T17:40:10.063546Z",
     "start_time": "2020-12-09T17:40:03.917240Z"
    }
   },
   "outputs": [
    {
     "data": {
      "image/png": "[encoded data removed]",
      "text/plain": [
       "<Figure size 576x576 with 1 Axes>"
      ]
     },
     "metadata": {
      "needs_background": "light"
     },
     "output_type": "display_data"
    },
    {
     "data": {
      "image/png": "[encoded data removed]",
      "text/plain": [
       "<Figure size 576x576 with 1 Axes>"
      ]
     },
     "metadata": {
      "needs_background": "light"
     },
     "output_type": "display_data"
    },
    {
     "data": {
      "image/png": "[encoded data removed]",
      "text/plain": [
       "<Figure size 576x576 with 1 Axes>"
      ]
     },
     "metadata": {
      "needs_background": "light"
     },
     "output_type": "display_data"
    },
    {
     "data": {
      "image/png": "[encoded data removed]",
      "text/plain": [
       "<Figure size 576x576 with 1 Axes>"
      ]
     },
     "metadata": {
      "needs_background": "light"
     },
     "output_type": "display_data"
    },
    {
     "data": {
      "image/png": "[encoded data removed]",
      "text/plain": [
       "<Figure size 576x576 with 1 Axes>"
      ]
     },
     "metadata": {
      "needs_background": "light"
     },
     "output_type": "display_data"
    }
   ],
   "source": [
    "# run robot animations\n",
    "state_funcs = get_state_functions(polar_coord)\n",
    "for i in range(5):\n",
    "    if random_goal:\n",
    "        robot.set_rand_goal()\n",
    "    initial_state(robot)\n",
    "    robot.animate(50, Qnet, state_funcs['state_f'])"
   ]
  },
  {
   "cell_type": "code",
   "execution_count": 33,
   "metadata": {
    "ExecuteTime": {
     "end_time": "2020-12-09T17:40:50.829605Z",
     "start_time": "2020-12-09T17:40:49.330247Z"
    }
   },
   "outputs": [
    {
     "data": {
      "image/png": "[encoded data removed]",
      "text/plain": [
       "<Figure size 576x576 with 1 Axes>"
      ]
     },
     "metadata": {
      "needs_background": "light"
     },
     "output_type": "display_data"
    }
   ],
   "source": [
    "# show trace of animation steps\n",
    "np.random.seed(4444)\n",
    "initial_state(robot)\n",
    "robot.animate(50, Qnet, state_funcs['state_f'], show_all_steps=True)"
   ]
  },
  {
   "cell_type": "markdown",
   "metadata": {},
   "source": [
    "### Train with a Fixed Goal and with Polar Coordinates\n",
    "\n",
    "This test will use the same training parameters as the previous test, with the addition of polar coordinates to the state space. I'm curious to see if this extra information will help the Qnet learn the state-action space better and/or faster than only using Cartesian coordinates. In particular, I wonder if the model using only the Cartesian coordinates will have to learn how to approximate some the trigonometric transformations that are included in the polar coordinates. If that's the case, then my thought is that the model my learn faster if it doesn't have to learn these approximations since they are provided in the state space."
   ]
  },
  {
   "cell_type": "code",
   "execution_count": 34,
   "metadata": {},
   "outputs": [
    {
     "name": "stdout",
     "output_type": "stream",
     "text": [
      "Starting trials\n",
      "______________________________________________\n",
      "\n",
      "Trial - 100: Mean R 5.533 - MSE loss 2.769\n",
      "Trial - 200: Mean R 2.562 - MSE loss 0.339\n",
      "Trial - 300: Mean R 1.563 - MSE loss 0.201\n",
      "Trial - 400: Mean R 1.344 - MSE loss 0.096\n",
      "Trial - 500: Mean R 1.310 - MSE loss 0.072\n",
      "Trial - 600: Mean R 1.252 - MSE loss 0.078\n",
      "Trial - 700: Mean R 2.459 - MSE loss 0.177\n",
      "Trial - 800: Mean R 1.289 - MSE loss 0.082\n",
      "Trial - 900: Mean R 1.094 - MSE loss 0.035\n",
      "Trial - 1000: Mean R 2.018 - MSE loss 0.219\n"
     ]
    }
   ],
   "source": [
    "# add polar coordinates to state\n",
    "polar_coord = True\n",
    "\n",
    "# instantiate robot and set goal\n",
    "robot = Robot([3., 3.])\n",
    "robot.set_goal([5., 6.])\n",
    "\n",
    "\n",
    "# train RL model\n",
    "np.random.seed(42)\n",
    "torch.manual_seed(42)\n",
    "    \n",
    "t0 = time.time()\n",
    "Qnet, state_funcs, r_mean_trace, _, loss_trace, epsilon_trace = train(robot, polar_coord, valid_actions,\n",
    "                                                         n_hiddens_list,  \n",
    "                                                         n_trials,\n",
    "                                                         n_steps_per_trial, \n",
    "                                                         n_opt_iterations,\n",
    "                                                         final_epsilon, \n",
    "                                                         gamma, \n",
    "                                                         learning_rate,\n",
    "                                                         act_func,\n",
    "                                                         random_goal,\n",
    "                                                         device\n",
    "                                                         )\n",
    "t1 = time.time()"
   ]
  },
  {
   "cell_type": "code",
   "execution_count": 35,
   "metadata": {},
   "outputs": [
    {
     "name": "stdout",
     "output_type": "stream",
     "text": [
      "elapsed minutes: 2.7566214005152383\n"
     ]
    }
   ],
   "source": [
    "print(f'elapsed minutes: {(t1-t0)/60}')"
   ]
  },
  {
   "cell_type": "code",
   "execution_count": 36,
   "metadata": {},
   "outputs": [],
   "source": [
    "# save experiment in dictionary\n",
    "experiment_test = {'params':None, \n",
    "                'r_mean_trace_list':[r_mean_trace],\n",
    "                'loss_trace_list':[loss_trace],\n",
    "                'epsilon_trace_list':[epsilon_trace],\n",
    "                'robot':robot,\n",
    "                'best_Qnet_model':Qnet.model_to_dict(),\n",
    "                'checkpoint':{'state_dict': Qnet.state_dict()}}"
   ]
  },
  {
   "cell_type": "code",
   "execution_count": 37,
   "metadata": {},
   "outputs": [
    {
     "data": {
      "image/png": "[encoded data removed]",
      "text/plain": [
       "<Figure size 720x720 with 3 Axes>"
      ]
     },
     "metadata": {
      "needs_background": "light"
     },
     "output_type": "display_data"
    }
   ],
   "source": [
    "# plot training traces\n",
    "plot_experiment(experiment_test)"
   ]
  },
  {
   "cell_type": "code",
   "execution_count": 38,
   "metadata": {},
   "outputs": [
    {
     "data": {
      "image/png": "[encoded data removed]",
      "text/plain": [
       "<Figure size 576x576 with 1 Axes>"
      ]
     },
     "metadata": {
      "needs_background": "light"
     },
     "output_type": "display_data"
    },
    {
     "data": {
      "image/png": "[encoded data removed]",
      "text/plain": [
       "<Figure size 576x576 with 1 Axes>"
      ]
     },
     "metadata": {
      "needs_background": "light"
     },
     "output_type": "display_data"
    },
    {
     "data": {
      "image/png": "[encoded data removed]",
      "text/plain": [
       "<Figure size 576x576 with 1 Axes>"
      ]
     },
     "metadata": {
      "needs_background": "light"
     },
     "output_type": "display_data"
    },
    {
     "data": {
      "image/png": "[encoded data removed]",
      "text/plain": [
       "<Figure size 576x576 with 1 Axes>"
      ]
     },
     "metadata": {
      "needs_background": "light"
     },
     "output_type": "display_data"
    },
    {
     "data": {
      "image/png": "[encoded data removed]",
      "text/plain": [
       "<Figure size 576x576 with 1 Axes>"
      ]
     },
     "metadata": {
      "needs_background": "light"
     },
     "output_type": "display_data"
    }
   ],
   "source": [
    "# run robot animations\n",
    "for i in range(5):\n",
    "    if random_goal:\n",
    "        robot.set_rand_goal()\n",
    "    initial_state(robot)\n",
    "    robot.animate(50, Qnet, state_funcs['state_f'])"
   ]
  },
  {
   "cell_type": "code",
   "execution_count": 39,
   "metadata": {},
   "outputs": [
    {
     "data": {
      "image/png": "[encoded data removed]",
      "text/plain": [
       "<Figure size 576x576 with 1 Axes>"
      ]
     },
     "metadata": {
      "needs_background": "light"
     },
     "output_type": "display_data"
    }
   ],
   "source": [
    "# show trace of animation steps\n",
    "np.random.seed(4444)\n",
    "initial_state(robot)\n",
    "robot.animate(50, Qnet, state_funcs['state_f'], show_all_steps=True)"
   ]
  },
  {
   "cell_type": "markdown",
   "metadata": {},
   "source": [
    "### Polar Coordinate Test Results\n",
    "\n",
    "With this initial testing, the polar coordinates did not provide a substantial improvement in learning. I'll test training with polar coordinates with a larger model to see if increasing model complexity will allow it to make better use of the additional information.\n",
    "\n",
    "### Train with Variable Goal\n",
    "\n",
    "To train the model with a variable goal, I will increase the number of trials and steps per trials and train a larger network. Since the Qnet updates after every trial, this will allow the model to explore and learn the more complex state-action space that now includes a moving goal and polar coordinates. "
   ]
  },
  {
   "cell_type": "code",
   "execution_count": 256,
   "metadata": {},
   "outputs": [],
   "source": [
    "# instantiate robot and set goal\n",
    "robot = Robot([3., 3.])\n",
    "robot.set_goal([5., 6.])\n",
    "\n",
    "# set up parameters for training\n",
    "n_hiddens_list = [256, 256]\n",
    "n_trials = 10000\n",
    "n_steps_per_trial = 256\n",
    "n_opt_iterations = 35\n",
    "final_epsilon = 0.001\n",
    "gamma = 0.8\n",
    "learning_rate = 0.001\n",
    "act_func = 'elu'\n",
    "random_goal = True\n",
    "polar_coord = True\n",
    "device = 'cuda:0'\n"
   ]
  },
  {
   "cell_type": "code",
   "execution_count": 257,
   "metadata": {},
   "outputs": [
    {
     "name": "stdout",
     "output_type": "stream",
     "text": [
      "Starting trials\n",
      "______________________________________________\n",
      "\n",
      "Trial - 250: Mean R 4.761 - MSE loss 0.386\n",
      "Trial - 500: Mean R 2.994 - MSE loss 0.236\n",
      "Trial - 750: Mean R 2.104 - MSE loss 0.103\n",
      "Trial - 1000: Mean R 1.685 - MSE loss 0.080\n",
      "Trial - 1250: Mean R 0.882 - MSE loss 0.035\n",
      "Trial - 1500: Mean R 1.255 - MSE loss 0.033\n",
      "Trial - 1750: Mean R 1.035 - MSE loss 0.037\n",
      "Trial - 2000: Mean R 0.989 - MSE loss 0.029\n",
      "Trial - 2250: Mean R 0.678 - MSE loss 0.029\n",
      "Trial - 2500: Mean R 0.897 - MSE loss 0.018\n",
      "Trial - 2750: Mean R 0.793 - MSE loss 0.029\n",
      "Trial - 3000: Mean R 0.556 - MSE loss 0.015\n",
      "Trial - 3250: Mean R 0.673 - MSE loss 0.013\n",
      "Trial - 3500: Mean R 0.659 - MSE loss 0.022\n",
      "Trial - 3750: Mean R 0.662 - MSE loss 0.013\n",
      "Trial - 4000: Mean R 0.714 - MSE loss 0.012\n",
      "Trial - 4250: Mean R 0.630 - MSE loss 0.007\n",
      "Trial - 4500: Mean R 0.643 - MSE loss 0.006\n",
      "Trial - 4750: Mean R 0.710 - MSE loss 0.011\n",
      "Trial - 5000: Mean R 0.586 - MSE loss 0.006\n",
      "Trial - 5250: Mean R 2.199 - MSE loss 0.049\n",
      "Trial - 5500: Mean R 0.503 - MSE loss 0.004\n",
      "Trial - 5750: Mean R 0.724 - MSE loss 0.004\n",
      "Trial - 6000: Mean R 0.586 - MSE loss 0.008\n",
      "Trial - 6250: Mean R 0.695 - MSE loss 0.004\n",
      "Trial - 6500: Mean R 0.661 - MSE loss 0.004\n",
      "Trial - 6750: Mean R 0.408 - MSE loss 0.003\n",
      "Trial - 7000: Mean R 0.510 - MSE loss 0.004\n",
      "Trial - 7250: Mean R 0.524 - MSE loss 0.003\n",
      "Trial - 7500: Mean R 0.488 - MSE loss 0.002\n",
      "Trial - 7750: Mean R 0.819 - MSE loss 0.002\n",
      "Trial - 8000: Mean R 0.726 - MSE loss 0.003\n",
      "Trial - 8250: Mean R 1.700 - MSE loss 0.006\n",
      "Trial - 8500: Mean R 0.722 - MSE loss 0.005\n",
      "Trial - 8750: Mean R 0.512 - MSE loss 0.006\n",
      "Trial - 9000: Mean R 0.672 - MSE loss 0.002\n",
      "Trial - 9250: Mean R 0.669 - MSE loss 0.002\n",
      "Trial - 9500: Mean R 0.646 - MSE loss 0.003\n",
      "Trial - 9750: Mean R 0.769 - MSE loss 0.003\n",
      "Trial - 10000: Mean R 0.829 - MSE loss 0.002\n"
     ]
    }
   ],
   "source": [
    "# train RL model\n",
    "np.random.seed(42)\n",
    "torch.manual_seed(42)\n",
    "\n",
    "    \n",
    "t0 = time.time()\n",
    "Qnet, state_funcs, r_mean_trace, _, loss_trace, epsilon_trace = train(robot, polar_coord, valid_actions,\n",
    "                                                         n_hiddens_list,  \n",
    "                                                         n_trials,\n",
    "                                                         n_steps_per_trial, \n",
    "                                                         n_opt_iterations,\n",
    "                                                         final_epsilon, \n",
    "                                                         gamma, \n",
    "                                                         learning_rate,\n",
    "                                                         act_func,\n",
    "                                                         random_goal,\n",
    "                                                         device\n",
    "                                                         )\n",
    "t1 = time.time()"
   ]
  },
  {
   "cell_type": "code",
   "execution_count": 258,
   "metadata": {},
   "outputs": [
    {
     "name": "stdout",
     "output_type": "stream",
     "text": [
      "elapsed minutes: 61.97686067422231\n"
     ]
    }
   ],
   "source": [
    "print(f'elapsed minutes: {(t1-t0)/60}')"
   ]
  },
  {
   "cell_type": "code",
   "execution_count": 259,
   "metadata": {},
   "outputs": [
    {
     "data": {
      "text/plain": [
       "0.7033519700138309"
      ]
     },
     "execution_count": 259,
     "metadata": {},
     "output_type": "execute_result"
    }
   ],
   "source": [
    "np.mean(r_mean_trace[-20:])"
   ]
  },
  {
   "cell_type": "code",
   "execution_count": 260,
   "metadata": {},
   "outputs": [],
   "source": [
    "# save experiment in dictionary\n",
    "experiment_test = {'params':None, \n",
    "                'r_mean_trace_list':[r_mean_trace],\n",
    "                'loss_trace_list':[loss_trace],\n",
    "                'epsilon_trace_list':[epsilon_trace],\n",
    "                'robot':robot,\n",
    "                'best_Qnet_model':Qnet.model_to_dict(),\n",
    "                'checkpoint':{'state_dict': Qnet.state_dict()}}"
   ]
  },
  {
   "cell_type": "code",
   "execution_count": 261,
   "metadata": {},
   "outputs": [
    {
     "data": {
      "image/png": "[encoded data removed]",
      "text/plain": [
       "<Figure size 720x720 with 3 Axes>"
      ]
     },
     "metadata": {
      "needs_background": "light"
     },
     "output_type": "display_data"
    }
   ],
   "source": [
    "# plot training traces\n",
    "plot_experiment(experiment_test)"
   ]
  },
  {
   "cell_type": "code",
   "execution_count": 262,
   "metadata": {},
   "outputs": [
    {
     "data": {
      "image/png": "[encoded data removed]",
      "text/plain": [
       "<Figure size 576x576 with 1 Axes>"
      ]
     },
     "metadata": {
      "needs_background": "light"
     },
     "output_type": "display_data"
    },
    {
     "data": {
      "image/png": "[encoded data removed]",
      "text/plain": [
       "<Figure size 576x576 with 1 Axes>"
      ]
     },
     "metadata": {
      "needs_background": "light"
     },
     "output_type": "display_data"
    },
    {
     "data": {
      "image/png": "[encoded data removed]",
      "text/plain": [
       "<Figure size 576x576 with 1 Axes>"
      ]
     },
     "metadata": {
      "needs_background": "light"
     },
     "output_type": "display_data"
    },
    {
     "data": {
      "image/png": "[encoded data removed]",
      "text/plain": [
       "<Figure size 576x576 with 1 Axes>"
      ]
     },
     "metadata": {
      "needs_background": "light"
     },
     "output_type": "display_data"
    },
    {
     "data": {
      "image/png": "[encoded data removed]",
      "text/plain": [
       "<Figure size 576x576 with 1 Axes>"
      ]
     },
     "metadata": {
      "needs_background": "light"
     },
     "output_type": "display_data"
    }
   ],
   "source": [
    "# run robot animations\n",
    "for i in range(5):\n",
    "    if random_goal:\n",
    "        robot.set_rand_goal()\n",
    "    initial_state(robot)\n",
    "    robot.animate(50, Qnet, state_funcs['state_f'])"
   ]
  },
  {
   "cell_type": "code",
   "execution_count": 263,
   "metadata": {},
   "outputs": [
    {
     "data": {
      "image/png": "[encoded data removed]",
      "text/plain": [
       "<Figure size 576x576 with 1 Axes>"
      ]
     },
     "metadata": {
      "needs_background": "light"
     },
     "output_type": "display_data"
    }
   ],
   "source": [
    "# show trace of animation steps\n",
    "np.random.seed(4444)\n",
    "# get state_funcs based on boolean value of polar_coord\n",
    "state_funcs = get_state_functions(polar_coord)\n",
    "initial_state(robot)\n",
    "robot.animate(100, Qnet, state_funcs['state_f'], show_all_steps=True)"
   ]
  },
  {
   "cell_type": "markdown",
   "metadata": {},
   "source": [
    "# RL Experiments\n",
    "* Instantiate robot\n",
    "* Set up parameter grid for model selection\n",
    "* Train over parameter grid \n",
    "    * Save best model definition and state during training\n",
    "* Load best model\n",
    "    * Generate plots\n",
    "    * Generate animations\n",
    "    \n",
    "See https://docs.nvidia.com/deeplearning/performance/dl-performance-fully-connected/index.html#checklist for tips to improve GPU performance.  From the documentation:\n",
    "\n",
    "    ...choosing the batch size and the number of inputs and outputs to be divisible by at least 64 and ideally 256 can streamline tiling and reduce overhead...\n",
    "    \n",
    "Steps per trials is works like a batch size, so I'll set the steps per trial to be divisible by 64 as well as the number of nodes in the hidden layers."
   ]
  },
  {
   "cell_type": "code",
   "execution_count": 264,
   "metadata": {},
   "outputs": [],
   "source": [
    "# instantiate robot\n",
    "robot = Robot([3., 3.])\n",
    "robot.set_goal([5., 6.])"
   ]
  },
  {
   "cell_type": "code",
   "execution_count": 266,
   "metadata": {},
   "outputs": [
    {
     "data": {
      "text/html": [
       "<div>\n",
       "<style scoped>\n",
       "    .dataframe tbody tr th:only-of-type {\n",
       "        vertical-align: middle;\n",
       "    }\n",
       "\n",
       "    .dataframe tbody tr th {\n",
       "        vertical-align: top;\n",
       "    }\n",
       "\n",
       "    .dataframe thead th {\n",
       "        text-align: right;\n",
       "    }\n",
       "</style>\n",
       "<table border=\"1\" class=\"dataframe\">\n",
       "  <thead>\n",
       "    <tr style=\"text-align: right;\">\n",
       "      <th></th>\n",
       "      <th>act_func</th>\n",
       "      <th>final_epsilon</th>\n",
       "      <th>gamma</th>\n",
       "      <th>learning_rate</th>\n",
       "      <th>n_hiddens_list</th>\n",
       "      <th>n_opt_iterations</th>\n",
       "      <th>n_steps_per_trial</th>\n",
       "      <th>n_trials</th>\n",
       "      <th>polar_coord</th>\n",
       "      <th>mean_last_20_r</th>\n",
       "      <th>state_funcs</th>\n",
       "    </tr>\n",
       "  </thead>\n",
       "  <tbody>\n",
       "    <tr>\n",
       "      <th>0</th>\n",
       "      <td>elu</td>\n",
       "      <td>0.01</td>\n",
       "      <td>0.8</td>\n",
       "      <td>0.001</td>\n",
       "      <td>[256, 256]</td>\n",
       "      <td>15</td>\n",
       "      <td>256</td>\n",
       "      <td>10000</td>\n",
       "      <td>True</td>\n",
       "      <td>None</td>\n",
       "      <td>None</td>\n",
       "    </tr>\n",
       "    <tr>\n",
       "      <th>1</th>\n",
       "      <td>elu</td>\n",
       "      <td>0.01</td>\n",
       "      <td>0.8</td>\n",
       "      <td>0.001</td>\n",
       "      <td>[256, 256]</td>\n",
       "      <td>15</td>\n",
       "      <td>256</td>\n",
       "      <td>10000</td>\n",
       "      <td>False</td>\n",
       "      <td>None</td>\n",
       "      <td>None</td>\n",
       "    </tr>\n",
       "    <tr>\n",
       "      <th>2</th>\n",
       "      <td>elu</td>\n",
       "      <td>0.01</td>\n",
       "      <td>0.8</td>\n",
       "      <td>0.001</td>\n",
       "      <td>[256, 256]</td>\n",
       "      <td>35</td>\n",
       "      <td>256</td>\n",
       "      <td>10000</td>\n",
       "      <td>True</td>\n",
       "      <td>None</td>\n",
       "      <td>None</td>\n",
       "    </tr>\n",
       "    <tr>\n",
       "      <th>3</th>\n",
       "      <td>elu</td>\n",
       "      <td>0.01</td>\n",
       "      <td>0.8</td>\n",
       "      <td>0.001</td>\n",
       "      <td>[256, 256]</td>\n",
       "      <td>35</td>\n",
       "      <td>256</td>\n",
       "      <td>10000</td>\n",
       "      <td>False</td>\n",
       "      <td>None</td>\n",
       "      <td>None</td>\n",
       "    </tr>\n",
       "    <tr>\n",
       "      <th>4</th>\n",
       "      <td>elu</td>\n",
       "      <td>0.01</td>\n",
       "      <td>0.8</td>\n",
       "      <td>0.001</td>\n",
       "      <td>[256, 256]</td>\n",
       "      <td>75</td>\n",
       "      <td>256</td>\n",
       "      <td>10000</td>\n",
       "      <td>True</td>\n",
       "      <td>None</td>\n",
       "      <td>None</td>\n",
       "    </tr>\n",
       "    <tr>\n",
       "      <th>5</th>\n",
       "      <td>elu</td>\n",
       "      <td>0.01</td>\n",
       "      <td>0.8</td>\n",
       "      <td>0.001</td>\n",
       "      <td>[256, 256]</td>\n",
       "      <td>75</td>\n",
       "      <td>256</td>\n",
       "      <td>10000</td>\n",
       "      <td>False</td>\n",
       "      <td>None</td>\n",
       "      <td>None</td>\n",
       "    </tr>\n",
       "    <tr>\n",
       "      <th>6</th>\n",
       "      <td>elu</td>\n",
       "      <td>0.01</td>\n",
       "      <td>0.8</td>\n",
       "      <td>0.001</td>\n",
       "      <td>[512, 512]</td>\n",
       "      <td>15</td>\n",
       "      <td>256</td>\n",
       "      <td>10000</td>\n",
       "      <td>True</td>\n",
       "      <td>None</td>\n",
       "      <td>None</td>\n",
       "    </tr>\n",
       "    <tr>\n",
       "      <th>7</th>\n",
       "      <td>elu</td>\n",
       "      <td>0.01</td>\n",
       "      <td>0.8</td>\n",
       "      <td>0.001</td>\n",
       "      <td>[512, 512]</td>\n",
       "      <td>15</td>\n",
       "      <td>256</td>\n",
       "      <td>10000</td>\n",
       "      <td>False</td>\n",
       "      <td>None</td>\n",
       "      <td>None</td>\n",
       "    </tr>\n",
       "    <tr>\n",
       "      <th>8</th>\n",
       "      <td>elu</td>\n",
       "      <td>0.01</td>\n",
       "      <td>0.8</td>\n",
       "      <td>0.001</td>\n",
       "      <td>[512, 512]</td>\n",
       "      <td>35</td>\n",
       "      <td>256</td>\n",
       "      <td>10000</td>\n",
       "      <td>True</td>\n",
       "      <td>None</td>\n",
       "      <td>None</td>\n",
       "    </tr>\n",
       "    <tr>\n",
       "      <th>9</th>\n",
       "      <td>elu</td>\n",
       "      <td>0.01</td>\n",
       "      <td>0.8</td>\n",
       "      <td>0.001</td>\n",
       "      <td>[512, 512]</td>\n",
       "      <td>35</td>\n",
       "      <td>256</td>\n",
       "      <td>10000</td>\n",
       "      <td>False</td>\n",
       "      <td>None</td>\n",
       "      <td>None</td>\n",
       "    </tr>\n",
       "    <tr>\n",
       "      <th>10</th>\n",
       "      <td>elu</td>\n",
       "      <td>0.01</td>\n",
       "      <td>0.8</td>\n",
       "      <td>0.001</td>\n",
       "      <td>[512, 512]</td>\n",
       "      <td>75</td>\n",
       "      <td>256</td>\n",
       "      <td>10000</td>\n",
       "      <td>True</td>\n",
       "      <td>None</td>\n",
       "      <td>None</td>\n",
       "    </tr>\n",
       "    <tr>\n",
       "      <th>11</th>\n",
       "      <td>elu</td>\n",
       "      <td>0.01</td>\n",
       "      <td>0.8</td>\n",
       "      <td>0.001</td>\n",
       "      <td>[512, 512]</td>\n",
       "      <td>75</td>\n",
       "      <td>256</td>\n",
       "      <td>10000</td>\n",
       "      <td>False</td>\n",
       "      <td>None</td>\n",
       "      <td>None</td>\n",
       "    </tr>\n",
       "    <tr>\n",
       "      <th>12</th>\n",
       "      <td>elu</td>\n",
       "      <td>0.01</td>\n",
       "      <td>0.8</td>\n",
       "      <td>0.001</td>\n",
       "      <td>[768, 768]</td>\n",
       "      <td>15</td>\n",
       "      <td>256</td>\n",
       "      <td>10000</td>\n",
       "      <td>True</td>\n",
       "      <td>None</td>\n",
       "      <td>None</td>\n",
       "    </tr>\n",
       "    <tr>\n",
       "      <th>13</th>\n",
       "      <td>elu</td>\n",
       "      <td>0.01</td>\n",
       "      <td>0.8</td>\n",
       "      <td>0.001</td>\n",
       "      <td>[768, 768]</td>\n",
       "      <td>15</td>\n",
       "      <td>256</td>\n",
       "      <td>10000</td>\n",
       "      <td>False</td>\n",
       "      <td>None</td>\n",
       "      <td>None</td>\n",
       "    </tr>\n",
       "    <tr>\n",
       "      <th>14</th>\n",
       "      <td>elu</td>\n",
       "      <td>0.01</td>\n",
       "      <td>0.8</td>\n",
       "      <td>0.001</td>\n",
       "      <td>[768, 768]</td>\n",
       "      <td>35</td>\n",
       "      <td>256</td>\n",
       "      <td>10000</td>\n",
       "      <td>True</td>\n",
       "      <td>None</td>\n",
       "      <td>None</td>\n",
       "    </tr>\n",
       "    <tr>\n",
       "      <th>15</th>\n",
       "      <td>elu</td>\n",
       "      <td>0.01</td>\n",
       "      <td>0.8</td>\n",
       "      <td>0.001</td>\n",
       "      <td>[768, 768]</td>\n",
       "      <td>35</td>\n",
       "      <td>256</td>\n",
       "      <td>10000</td>\n",
       "      <td>False</td>\n",
       "      <td>None</td>\n",
       "      <td>None</td>\n",
       "    </tr>\n",
       "    <tr>\n",
       "      <th>16</th>\n",
       "      <td>elu</td>\n",
       "      <td>0.01</td>\n",
       "      <td>0.8</td>\n",
       "      <td>0.001</td>\n",
       "      <td>[768, 768]</td>\n",
       "      <td>75</td>\n",
       "      <td>256</td>\n",
       "      <td>10000</td>\n",
       "      <td>True</td>\n",
       "      <td>None</td>\n",
       "      <td>None</td>\n",
       "    </tr>\n",
       "    <tr>\n",
       "      <th>17</th>\n",
       "      <td>elu</td>\n",
       "      <td>0.01</td>\n",
       "      <td>0.8</td>\n",
       "      <td>0.001</td>\n",
       "      <td>[768, 768]</td>\n",
       "      <td>75</td>\n",
       "      <td>256</td>\n",
       "      <td>10000</td>\n",
       "      <td>False</td>\n",
       "      <td>None</td>\n",
       "      <td>None</td>\n",
       "    </tr>\n",
       "  </tbody>\n",
       "</table>\n",
       "</div>"
      ],
      "text/plain": [
       "   act_func  final_epsilon  gamma  learning_rate n_hiddens_list  \\\n",
       "0       elu           0.01    0.8          0.001     [256, 256]   \n",
       "1       elu           0.01    0.8          0.001     [256, 256]   \n",
       "2       elu           0.01    0.8          0.001     [256, 256]   \n",
       "3       elu           0.01    0.8          0.001     [256, 256]   \n",
       "4       elu           0.01    0.8          0.001     [256, 256]   \n",
       "5       elu           0.01    0.8          0.001     [256, 256]   \n",
       "6       elu           0.01    0.8          0.001     [512, 512]   \n",
       "7       elu           0.01    0.8          0.001     [512, 512]   \n",
       "8       elu           0.01    0.8          0.001     [512, 512]   \n",
       "9       elu           0.01    0.8          0.001     [512, 512]   \n",
       "10      elu           0.01    0.8          0.001     [512, 512]   \n",
       "11      elu           0.01    0.8          0.001     [512, 512]   \n",
       "12      elu           0.01    0.8          0.001     [768, 768]   \n",
       "13      elu           0.01    0.8          0.001     [768, 768]   \n",
       "14      elu           0.01    0.8          0.001     [768, 768]   \n",
       "15      elu           0.01    0.8          0.001     [768, 768]   \n",
       "16      elu           0.01    0.8          0.001     [768, 768]   \n",
       "17      elu           0.01    0.8          0.001     [768, 768]   \n",
       "\n",
       "    n_opt_iterations  n_steps_per_trial  n_trials  polar_coord mean_last_20_r  \\\n",
       "0                 15                256     10000         True           None   \n",
       "1                 15                256     10000        False           None   \n",
       "2                 35                256     10000         True           None   \n",
       "3                 35                256     10000        False           None   \n",
       "4                 75                256     10000         True           None   \n",
       "5                 75                256     10000        False           None   \n",
       "6                 15                256     10000         True           None   \n",
       "7                 15                256     10000        False           None   \n",
       "8                 35                256     10000         True           None   \n",
       "9                 35                256     10000        False           None   \n",
       "10                75                256     10000         True           None   \n",
       "11                75                256     10000        False           None   \n",
       "12                15                256     10000         True           None   \n",
       "13                15                256     10000        False           None   \n",
       "14                35                256     10000         True           None   \n",
       "15                35                256     10000        False           None   \n",
       "16                75                256     10000         True           None   \n",
       "17                75                256     10000        False           None   \n",
       "\n",
       "   state_funcs  \n",
       "0         None  \n",
       "1         None  \n",
       "2         None  \n",
       "3         None  \n",
       "4         None  \n",
       "5         None  \n",
       "6         None  \n",
       "7         None  \n",
       "8         None  \n",
       "9         None  \n",
       "10        None  \n",
       "11        None  \n",
       "12        None  \n",
       "13        None  \n",
       "14        None  \n",
       "15        None  \n",
       "16        None  \n",
       "17        None  "
      ]
     },
     "execution_count": 266,
     "metadata": {},
     "output_type": "execute_result"
    }
   ],
   "source": [
    "# create a parameter grid to search over\n",
    "random_goal = True\n",
    "polar_coord = [True, False]\n",
    "device = 'cuda:0'\n",
    "\n",
    "\n",
    "# set up lists of parameters to search over\n",
    "n_hiddens_list = [\n",
    "    [256, 256],\n",
    "    [512, 512],\n",
    "    [768, 768],\n",
    "#     [1024, 1024]\n",
    "]\n",
    "\n",
    "n_trials = [10000]\n",
    "n_steps_per_trial = [256]\n",
    "n_opt_iterations = [15, 35, 75]\n",
    "final_epsilon = [0.01]\n",
    "gamma = [0.8]\n",
    "learning_rate = [0.001]\n",
    "act_func = ['elu'] # 'relu', 'sigmoid' , 'elu', 'tanh'\n",
    "\n",
    "    \n",
    "grid = {\n",
    "    'polar_coord' : polar_coord,\n",
    "    'n_hiddens_list' : n_hiddens_list,\n",
    "    'n_trials' : n_trials,\n",
    "    'n_steps_per_trial' : n_steps_per_trial,\n",
    "    'n_opt_iterations' : n_opt_iterations,\n",
    "    'final_epsilon' : final_epsilon,\n",
    "    'gamma' : gamma,\n",
    "    'learning_rate' : learning_rate,\n",
    "    'act_func' : act_func,\n",
    "\n",
    "}\n",
    "\n",
    "\n",
    "# create parameter grid\n",
    "params = ParameterGrid(grid)\n",
    "params = pd.DataFrame(params)\n",
    "params['mean_last_20_r'] = None\n",
    "params['state_funcs'] = None\n",
    "\n",
    "\n",
    "# allocate lists to hold traces from training\n",
    "r_mean_trace_list = [None] * params.shape[0]\n",
    "loss_trace_list = [None] * params.shape[0]\n",
    "epsilon_trace_list = [None] * params.shape[0]\n",
    "\n",
    "\n",
    "params"
   ]
  },
  {
   "cell_type": "code",
   "execution_count": 267,
   "metadata": {},
   "outputs": [
    {
     "name": "stdout",
     "output_type": "stream",
     "text": [
      "______________________________________________________________________\n",
      "\n",
      "Working on row: 0\n"
     ]
    },
    {
     "data": {
      "text/plain": [
       "act_func                    elu\n",
       "final_epsilon              0.01\n",
       "gamma                       0.8\n",
       "learning_rate             0.001\n",
       "n_hiddens_list       [256, 256]\n",
       "n_opt_iterations             15\n",
       "n_steps_per_trial           256\n",
       "n_trials                  10000\n",
       "polar_coord                True\n",
       "mean_last_20_r             None\n",
       "state_funcs                None\n",
       "Name: 0, dtype: object"
      ]
     },
     "metadata": {},
     "output_type": "display_data"
    },
    {
     "name": "stdout",
     "output_type": "stream",
     "text": [
      "Starting trials\n",
      "______________________________________________\n",
      "\n",
      "Trial - 250: Mean R 5.191 - MSE loss 2.257\n",
      "Trial - 500: Mean R 3.784 - MSE loss 1.231\n",
      "Trial - 750: Mean R 2.134 - MSE loss 0.400\n",
      "Trial - 1000: Mean R 2.677 - MSE loss 0.487\n",
      "Trial - 1250: Mean R 1.483 - MSE loss 0.187\n",
      "Trial - 1500: Mean R 1.580 - MSE loss 0.198\n",
      "Trial - 1750: Mean R 1.332 - MSE loss 0.189\n",
      "Trial - 2000: Mean R 1.782 - MSE loss 0.452\n",
      "Trial - 2250: Mean R 1.439 - MSE loss 0.133\n",
      "Trial - 2500: Mean R 0.850 - MSE loss 0.168\n",
      "Trial - 2750: Mean R 0.982 - MSE loss 0.131\n",
      "Trial - 3000: Mean R 0.950 - MSE loss 0.091\n",
      "Trial - 3250: Mean R 0.629 - MSE loss 0.056\n",
      "Trial - 3500: Mean R 0.899 - MSE loss 0.056\n",
      "Trial - 3750: Mean R 0.691 - MSE loss 0.032\n",
      "Trial - 4000: Mean R 0.851 - MSE loss 0.056\n",
      "Trial - 4250: Mean R 1.042 - MSE loss 0.048\n",
      "Trial - 4500: Mean R 0.765 - MSE loss 0.035\n",
      "Trial - 4750: Mean R 0.633 - MSE loss 0.047\n",
      "Trial - 5000: Mean R 1.028 - MSE loss 0.051\n",
      "Trial - 5250: Mean R 0.790 - MSE loss 0.044\n",
      "Trial - 5500: Mean R 0.682 - MSE loss 0.049\n",
      "Trial - 5750: Mean R 0.755 - MSE loss 0.040\n",
      "Trial - 6000: Mean R 0.761 - MSE loss 0.052\n",
      "Trial - 6250: Mean R 1.340 - MSE loss 0.078\n",
      "Trial - 6500: Mean R 0.872 - MSE loss 0.050\n",
      "Trial - 6750: Mean R 0.779 - MSE loss 0.053\n",
      "Trial - 7000: Mean R 0.981 - MSE loss 0.083\n",
      "Trial - 7250: Mean R 0.742 - MSE loss 0.018\n",
      "Trial - 7500: Mean R 0.796 - MSE loss 0.039\n",
      "Trial - 7750: Mean R 0.781 - MSE loss 0.033\n",
      "Trial - 8000: Mean R 0.690 - MSE loss 0.022\n",
      "Trial - 8250: Mean R 0.731 - MSE loss 0.036\n",
      "Trial - 8500: Mean R 0.854 - MSE loss 0.033\n",
      "Trial - 8750: Mean R 0.528 - MSE loss 0.023\n",
      "Trial - 9000: Mean R 0.628 - MSE loss 0.020\n",
      "Trial - 9250: Mean R 0.425 - MSE loss 0.024\n",
      "Trial - 9500: Mean R 1.169 - MSE loss 0.036\n",
      "Trial - 9750: Mean R 1.184 - MSE loss 0.067\n",
      "Trial - 10000: Mean R 0.696 - MSE loss 0.014\n",
      "\n",
      "Mean of average R for last 20 trials: 0.695971624539179\n",
      "Best of average R for last 20 trials: 0.695971624539179\n",
      "\n",
      "______________________________________________________________________\n",
      "\n",
      "Working on row: 1\n"
     ]
    },
    {
     "data": {
      "text/plain": [
       "act_func                    elu\n",
       "final_epsilon              0.01\n",
       "gamma                       0.8\n",
       "learning_rate             0.001\n",
       "n_hiddens_list       [256, 256]\n",
       "n_opt_iterations             15\n",
       "n_steps_per_trial           256\n",
       "n_trials                  10000\n",
       "polar_coord               False\n",
       "mean_last_20_r             None\n",
       "state_funcs                None\n",
       "Name: 1, dtype: object"
      ]
     },
     "metadata": {},
     "output_type": "display_data"
    },
    {
     "name": "stdout",
     "output_type": "stream",
     "text": [
      "Starting trials\n",
      "______________________________________________\n",
      "\n",
      "Trial - 250: Mean R 5.276 - MSE loss 2.682\n",
      "Trial - 500: Mean R 3.662 - MSE loss 1.423\n",
      "Trial - 750: Mean R 2.649 - MSE loss 1.038\n",
      "Trial - 1000: Mean R 3.222 - MSE loss 0.719\n",
      "Trial - 1250: Mean R 2.153 - MSE loss 0.331\n",
      "Trial - 1500: Mean R 3.137 - MSE loss 0.389\n",
      "Trial - 1750: Mean R 2.376 - MSE loss 0.245\n",
      "Trial - 2000: Mean R 2.404 - MSE loss 0.334\n",
      "Trial - 2250: Mean R 2.254 - MSE loss 0.451\n",
      "Trial - 2500: Mean R 1.978 - MSE loss 0.211\n",
      "Trial - 2750: Mean R 1.834 - MSE loss 0.205\n",
      "Trial - 3000: Mean R 2.435 - MSE loss 0.316\n",
      "Trial - 3250: Mean R 1.782 - MSE loss 0.166\n",
      "Trial - 3500: Mean R 2.182 - MSE loss 0.392\n",
      "Trial - 3750: Mean R 1.994 - MSE loss 0.235\n",
      "Trial - 4000: Mean R 1.875 - MSE loss 0.199\n",
      "Trial - 4250: Mean R 2.074 - MSE loss 0.273\n",
      "Trial - 4500: Mean R 1.770 - MSE loss 0.180\n",
      "Trial - 4750: Mean R 1.794 - MSE loss 0.120\n",
      "Trial - 5000: Mean R 1.479 - MSE loss 0.134\n",
      "Trial - 5250: Mean R 2.058 - MSE loss 0.093\n",
      "Trial - 5500: Mean R 0.900 - MSE loss 0.090\n",
      "Trial - 5750: Mean R 1.833 - MSE loss 0.102\n",
      "Trial - 6000: Mean R 1.249 - MSE loss 0.091\n",
      "Trial - 6250: Mean R 1.383 - MSE loss 0.140\n",
      "Trial - 6500: Mean R 1.678 - MSE loss 0.140\n",
      "Trial - 6750: Mean R 1.593 - MSE loss 0.186\n",
      "Trial - 7000: Mean R 2.166 - MSE loss 0.149\n",
      "Trial - 7250: Mean R 1.752 - MSE loss 0.040\n",
      "Trial - 7500: Mean R 1.036 - MSE loss 0.040\n",
      "Trial - 7750: Mean R 1.903 - MSE loss 0.050\n",
      "Trial - 8000: Mean R 1.236 - MSE loss 0.070\n",
      "Trial - 8250: Mean R 0.935 - MSE loss 0.042\n",
      "Trial - 8500: Mean R 1.597 - MSE loss 0.145\n",
      "Trial - 8750: Mean R 1.016 - MSE loss 0.046\n",
      "Trial - 9000: Mean R 1.178 - MSE loss 0.051\n",
      "Trial - 9250: Mean R 1.092 - MSE loss 0.035\n",
      "Trial - 9500: Mean R 1.348 - MSE loss 0.121\n",
      "Trial - 9750: Mean R 1.278 - MSE loss 0.093\n",
      "Trial - 10000: Mean R 1.136 - MSE loss 0.061\n",
      "\n",
      "Mean of average R for last 20 trials: 1.246806886265172\n",
      "Best of average R for last 20 trials: 0.695971624539179\n",
      "\n",
      "______________________________________________________________________\n",
      "\n",
      "Working on row: 2\n"
     ]
    },
    {
     "data": {
      "text/plain": [
       "act_func                    elu\n",
       "final_epsilon              0.01\n",
       "gamma                       0.8\n",
       "learning_rate             0.001\n",
       "n_hiddens_list       [256, 256]\n",
       "n_opt_iterations             35\n",
       "n_steps_per_trial           256\n",
       "n_trials                  10000\n",
       "polar_coord                True\n",
       "mean_last_20_r             None\n",
       "state_funcs                None\n",
       "Name: 2, dtype: object"
      ]
     },
     "metadata": {},
     "output_type": "display_data"
    },
    {
     "name": "stdout",
     "output_type": "stream",
     "text": [
      "Starting trials\n",
      "______________________________________________\n",
      "\n",
      "Trial - 250: Mean R 4.565 - MSE loss 0.592\n",
      "Trial - 500: Mean R 2.588 - MSE loss 0.169\n",
      "Trial - 750: Mean R 1.544 - MSE loss 0.135\n",
      "Trial - 1000: Mean R 1.589 - MSE loss 0.111\n",
      "Trial - 1250: Mean R 1.171 - MSE loss 0.089\n",
      "Trial - 1500: Mean R 1.182 - MSE loss 0.098\n",
      "Trial - 1750: Mean R 1.143 - MSE loss 0.048\n",
      "Trial - 2000: Mean R 0.916 - MSE loss 0.052\n",
      "Trial - 2250: Mean R 0.863 - MSE loss 0.034\n",
      "Trial - 2500: Mean R 0.729 - MSE loss 0.054\n",
      "Trial - 2750: Mean R 0.750 - MSE loss 0.036\n",
      "Trial - 3000: Mean R 0.740 - MSE loss 0.043\n",
      "Trial - 3250: Mean R 0.472 - MSE loss 0.024\n",
      "Trial - 3500: Mean R 0.666 - MSE loss 0.027\n",
      "Trial - 3750: Mean R 0.606 - MSE loss 0.014\n",
      "Trial - 4000: Mean R 0.644 - MSE loss 0.020\n",
      "Trial - 4250: Mean R 0.695 - MSE loss 0.021\n",
      "Trial - 4500: Mean R 0.513 - MSE loss 0.018\n",
      "Trial - 4750: Mean R 0.551 - MSE loss 0.017\n",
      "Trial - 5000: Mean R 0.482 - MSE loss 0.008\n",
      "Trial - 5250: Mean R 0.643 - MSE loss 0.015\n",
      "Trial - 5500: Mean R 0.608 - MSE loss 0.010\n",
      "Trial - 5750: Mean R 0.711 - MSE loss 0.011\n",
      "Trial - 6000: Mean R 0.391 - MSE loss 0.007\n",
      "Trial - 6250: Mean R 0.588 - MSE loss 0.010\n",
      "Trial - 6500: Mean R 0.666 - MSE loss 0.009\n",
      "Trial - 6750: Mean R 0.576 - MSE loss 0.008\n",
      "Trial - 7000: Mean R 0.608 - MSE loss 0.006\n",
      "Trial - 7250: Mean R 0.601 - MSE loss 0.003\n",
      "Trial - 7500: Mean R 0.595 - MSE loss 0.006\n",
      "Trial - 7750: Mean R 0.616 - MSE loss 0.010\n",
      "Trial - 8000: Mean R 0.440 - MSE loss 0.003\n",
      "Trial - 8250: Mean R 0.516 - MSE loss 0.003\n",
      "Trial - 8500: Mean R 0.709 - MSE loss 0.007\n",
      "Trial - 8750: Mean R 0.466 - MSE loss 0.002\n",
      "Trial - 9000: Mean R 0.502 - MSE loss 0.004\n",
      "Trial - 9250: Mean R 0.506 - MSE loss 0.003\n",
      "Trial - 9500: Mean R 0.645 - MSE loss 0.002\n",
      "Trial - 9750: Mean R 0.690 - MSE loss 0.003\n",
      "Trial - 10000: Mean R 0.485 - MSE loss 0.002\n",
      "\n",
      "Mean of average R for last 20 trials: 0.5430846280255238\n",
      "Best of average R for last 20 trials: 0.5430846280255238\n",
      "\n",
      "______________________________________________________________________\n",
      "\n",
      "Working on row: 3\n"
     ]
    },
    {
     "data": {
      "text/plain": [
       "act_func                    elu\n",
       "final_epsilon              0.01\n",
       "gamma                       0.8\n",
       "learning_rate             0.001\n",
       "n_hiddens_list       [256, 256]\n",
       "n_opt_iterations             35\n",
       "n_steps_per_trial           256\n",
       "n_trials                  10000\n",
       "polar_coord               False\n",
       "mean_last_20_r             None\n",
       "state_funcs                None\n",
       "Name: 3, dtype: object"
      ]
     },
     "metadata": {},
     "output_type": "display_data"
    },
    {
     "name": "stdout",
     "output_type": "stream",
     "text": [
      "Starting trials\n",
      "______________________________________________\n",
      "\n",
      "Trial - 250: Mean R 4.222 - MSE loss 0.615\n",
      "Trial - 500: Mean R 3.137 - MSE loss 0.162\n",
      "Trial - 750: Mean R 2.258 - MSE loss 0.162\n",
      "Trial - 1000: Mean R 2.675 - MSE loss 0.141\n",
      "Trial - 1250: Mean R 2.016 - MSE loss 0.099\n",
      "Trial - 1500: Mean R 2.190 - MSE loss 0.096\n",
      "Trial - 1750: Mean R 1.842 - MSE loss 0.071\n",
      "Trial - 2000: Mean R 1.759 - MSE loss 0.093\n",
      "Trial - 2250: Mean R 2.131 - MSE loss 0.086\n",
      "Trial - 2500: Mean R 1.490 - MSE loss 0.048\n",
      "Trial - 2750: Mean R 1.334 - MSE loss 0.040\n",
      "Trial - 3000: Mean R 1.621 - MSE loss 0.056\n",
      "Trial - 3250: Mean R 1.282 - MSE loss 0.026\n",
      "Trial - 3500: Mean R 1.521 - MSE loss 0.034\n",
      "Trial - 3750: Mean R 0.768 - MSE loss 0.025\n",
      "Trial - 4000: Mean R 0.968 - MSE loss 0.034\n",
      "Trial - 4250: Mean R 1.255 - MSE loss 0.027\n",
      "Trial - 4500: Mean R 0.834 - MSE loss 0.023\n",
      "Trial - 4750: Mean R 0.820 - MSE loss 0.021\n",
      "Trial - 5000: Mean R 0.777 - MSE loss 0.011\n",
      "Trial - 5250: Mean R 0.959 - MSE loss 0.019\n",
      "Trial - 5500: Mean R 0.655 - MSE loss 0.010\n",
      "Trial - 5750: Mean R 0.822 - MSE loss 0.010\n",
      "Trial - 6000: Mean R 0.549 - MSE loss 0.010\n",
      "Trial - 6250: Mean R 0.739 - MSE loss 0.013\n",
      "Trial - 6500: Mean R 0.740 - MSE loss 0.009\n",
      "Trial - 6750: Mean R 0.620 - MSE loss 0.009\n",
      "Trial - 7000: Mean R 0.746 - MSE loss 0.005\n",
      "Trial - 7250: Mean R 0.560 - MSE loss 0.007\n",
      "Trial - 7500: Mean R 0.616 - MSE loss 0.007\n",
      "Trial - 7750: Mean R 0.861 - MSE loss 0.010\n",
      "Trial - 8000: Mean R 0.682 - MSE loss 0.005\n",
      "Trial - 8250: Mean R 0.598 - MSE loss 0.005\n",
      "Trial - 8500: Mean R 0.791 - MSE loss 0.005\n",
      "Trial - 8750: Mean R 0.575 - MSE loss 0.004\n",
      "Trial - 9000: Mean R 0.576 - MSE loss 0.005\n",
      "Trial - 9250: Mean R 0.534 - MSE loss 0.003\n",
      "Trial - 9500: Mean R 0.643 - MSE loss 0.003\n",
      "Trial - 9750: Mean R 0.718 - MSE loss 0.005\n",
      "Trial - 10000: Mean R 0.609 - MSE loss 0.002\n",
      "\n",
      "Mean of average R for last 20 trials: 0.6587403963029745\n",
      "Best of average R for last 20 trials: 0.5430846280255238\n",
      "\n",
      "______________________________________________________________________\n",
      "\n",
      "Working on row: 4\n"
     ]
    },
    {
     "data": {
      "text/plain": [
       "act_func                    elu\n",
       "final_epsilon              0.01\n",
       "gamma                       0.8\n",
       "learning_rate             0.001\n",
       "n_hiddens_list       [256, 256]\n",
       "n_opt_iterations             75\n",
       "n_steps_per_trial           256\n",
       "n_trials                  10000\n",
       "polar_coord                True\n",
       "mean_last_20_r             None\n",
       "state_funcs                None\n",
       "Name: 4, dtype: object"
      ]
     },
     "metadata": {},
     "output_type": "display_data"
    },
    {
     "name": "stdout",
     "output_type": "stream",
     "text": [
      "Starting trials\n",
      "______________________________________________\n",
      "\n",
      "Trial - 250: Mean R 3.779 - MSE loss 0.218\n",
      "Trial - 500: Mean R 2.353 - MSE loss 0.086\n",
      "Trial - 750: Mean R 1.512 - MSE loss 0.079\n",
      "Trial - 1000: Mean R 1.555 - MSE loss 0.077\n",
      "Trial - 1250: Mean R 1.148 - MSE loss 0.055\n",
      "Trial - 1500: Mean R 1.028 - MSE loss 0.087\n",
      "Trial - 1750: Mean R 1.146 - MSE loss 0.034\n",
      "Trial - 2000: Mean R 0.949 - MSE loss 0.046\n",
      "Trial - 2250: Mean R 0.931 - MSE loss 0.046\n",
      "Trial - 2500: Mean R 0.721 - MSE loss 0.023\n",
      "Trial - 2750: Mean R 0.798 - MSE loss 0.022\n",
      "Trial - 3000: Mean R 0.841 - MSE loss 0.022\n",
      "Trial - 3250: Mean R 0.572 - MSE loss 0.018\n",
      "Trial - 3500: Mean R 0.656 - MSE loss 0.021\n",
      "Trial - 3750: Mean R 0.598 - MSE loss 0.010\n",
      "Trial - 4000: Mean R 0.524 - MSE loss 0.015\n",
      "Trial - 4250: Mean R 0.630 - MSE loss 0.023\n",
      "Trial - 4500: Mean R 0.562 - MSE loss 0.013\n",
      "Trial - 4750: Mean R 0.660 - MSE loss 0.011\n",
      "Trial - 5000: Mean R 0.514 - MSE loss 0.005\n",
      "Trial - 5250: Mean R 0.744 - MSE loss 0.014\n",
      "Trial - 5500: Mean R 0.699 - MSE loss 0.010\n",
      "Trial - 5750: Mean R 0.747 - MSE loss 0.010\n",
      "Trial - 6000: Mean R 0.499 - MSE loss 0.005\n",
      "Trial - 6250: Mean R 0.586 - MSE loss 0.007\n",
      "Trial - 6500: Mean R 0.634 - MSE loss 0.005\n",
      "Trial - 6750: Mean R 0.595 - MSE loss 0.004\n",
      "Trial - 7000: Mean R 2.001 - MSE loss 0.019\n",
      "Trial - 7250: Mean R 0.562 - MSE loss 0.002\n",
      "Trial - 7500: Mean R 0.542 - MSE loss 0.003\n",
      "Trial - 7750: Mean R 1.072 - MSE loss 0.013\n",
      "Trial - 8000: Mean R 0.484 - MSE loss 0.002\n",
      "Trial - 8250: Mean R 0.583 - MSE loss 0.003\n",
      "Trial - 8500: Mean R 0.650 - MSE loss 0.003\n",
      "Trial - 8750: Mean R 0.511 - MSE loss 0.001\n",
      "Trial - 9000: Mean R 0.525 - MSE loss 0.005\n",
      "Trial - 9250: Mean R 0.460 - MSE loss 0.002\n",
      "Trial - 9500: Mean R 0.454 - MSE loss 0.001\n",
      "Trial - 9750: Mean R 0.606 - MSE loss 0.002\n",
      "Trial - 10000: Mean R 0.431 - MSE loss 0.001\n",
      "\n",
      "Mean of average R for last 20 trials: 0.4987641091481002\n",
      "Best of average R for last 20 trials: 0.4987641091481002\n",
      "\n",
      "______________________________________________________________________\n",
      "\n",
      "Working on row: 5\n"
     ]
    },
    {
     "data": {
      "text/plain": [
       "act_func                    elu\n",
       "final_epsilon              0.01\n",
       "gamma                       0.8\n",
       "learning_rate             0.001\n",
       "n_hiddens_list       [256, 256]\n",
       "n_opt_iterations             75\n",
       "n_steps_per_trial           256\n",
       "n_trials                  10000\n",
       "polar_coord               False\n",
       "mean_last_20_r             None\n",
       "state_funcs                None\n",
       "Name: 5, dtype: object"
      ]
     },
     "metadata": {},
     "output_type": "display_data"
    },
    {
     "name": "stdout",
     "output_type": "stream",
     "text": [
      "Starting trials\n",
      "______________________________________________\n",
      "\n",
      "Trial - 250: Mean R 3.924 - MSE loss 0.165\n",
      "Trial - 500: Mean R 2.847 - MSE loss 0.076\n",
      "Trial - 750: Mean R 1.807 - MSE loss 0.064\n",
      "Trial - 1000: Mean R 2.699 - MSE loss 0.042\n",
      "Trial - 1250: Mean R 1.907 - MSE loss 0.054\n",
      "Trial - 1500: Mean R 1.803 - MSE loss 0.066\n",
      "Trial - 1750: Mean R 1.575 - MSE loss 0.032\n",
      "Trial - 2000: Mean R 1.433 - MSE loss 0.033\n",
      "Trial - 2250: Mean R 1.334 - MSE loss 0.022\n",
      "Trial - 2500: Mean R 1.417 - MSE loss 0.022\n",
      "Trial - 2750: Mean R 0.767 - MSE loss 0.023\n",
      "Trial - 3000: Mean R 1.282 - MSE loss 0.036\n",
      "Trial - 3250: Mean R 0.721 - MSE loss 0.013\n",
      "Trial - 3500: Mean R 0.868 - MSE loss 0.020\n",
      "Trial - 3750: Mean R 0.688 - MSE loss 0.016\n",
      "Trial - 4000: Mean R 0.678 - MSE loss 0.014\n",
      "Trial - 4250: Mean R 0.894 - MSE loss 0.017\n",
      "Trial - 4500: Mean R 0.688 - MSE loss 0.011\n",
      "Trial - 4750: Mean R 0.801 - MSE loss 0.011\n",
      "Trial - 5000: Mean R 0.611 - MSE loss 0.005\n",
      "Trial - 5250: Mean R 0.757 - MSE loss 0.016\n",
      "Trial - 5500: Mean R 0.523 - MSE loss 0.009\n",
      "Trial - 5750: Mean R 0.586 - MSE loss 0.014\n",
      "Trial - 6000: Mean R 0.537 - MSE loss 0.005\n",
      "Trial - 6250: Mean R 0.706 - MSE loss 0.008\n",
      "Trial - 6500: Mean R 0.678 - MSE loss 0.005\n",
      "Trial - 6750: Mean R 0.575 - MSE loss 0.005\n",
      "Trial - 7000: Mean R 0.605 - MSE loss 0.003\n",
      "Trial - 7250: Mean R 0.511 - MSE loss 0.003\n",
      "Trial - 7500: Mean R 0.523 - MSE loss 0.004\n",
      "Trial - 7750: Mean R 0.735 - MSE loss 0.005\n",
      "Trial - 8000: Mean R 0.530 - MSE loss 0.002\n",
      "Trial - 8250: Mean R 0.535 - MSE loss 0.002\n",
      "Trial - 8500: Mean R 0.577 - MSE loss 0.003\n",
      "Trial - 8750: Mean R 0.542 - MSE loss 0.001\n",
      "Trial - 9000: Mean R 0.438 - MSE loss 0.002\n",
      "Trial - 9250: Mean R 0.419 - MSE loss 0.001\n",
      "Trial - 9500: Mean R 0.698 - MSE loss 0.002\n",
      "Trial - 9750: Mean R 0.714 - MSE loss 0.002\n",
      "Trial - 10000: Mean R 0.511 - MSE loss 0.001\n",
      "\n",
      "Mean of average R for last 20 trials: 0.5880320235126232\n",
      "Best of average R for last 20 trials: 0.4987641091481002\n",
      "\n",
      "______________________________________________________________________\n",
      "\n",
      "Working on row: 6\n"
     ]
    },
    {
     "data": {
      "text/plain": [
       "act_func                    elu\n",
       "final_epsilon              0.01\n",
       "gamma                       0.8\n",
       "learning_rate             0.001\n",
       "n_hiddens_list       [512, 512]\n",
       "n_opt_iterations             15\n",
       "n_steps_per_trial           256\n",
       "n_trials                  10000\n",
       "polar_coord                True\n",
       "mean_last_20_r             None\n",
       "state_funcs                None\n",
       "Name: 6, dtype: object"
      ]
     },
     "metadata": {},
     "output_type": "display_data"
    },
    {
     "name": "stdout",
     "output_type": "stream",
     "text": [
      "Starting trials\n",
      "______________________________________________\n",
      "\n",
      "Trial - 250: Mean R 6.156 - MSE loss 2.033\n",
      "Trial - 500: Mean R 3.149 - MSE loss 1.431\n",
      "Trial - 750: Mean R 1.804 - MSE loss 0.283\n",
      "Trial - 1000: Mean R 2.040 - MSE loss 0.523\n",
      "Trial - 1250: Mean R 1.216 - MSE loss 0.163\n",
      "Trial - 1500: Mean R 1.383 - MSE loss 0.152\n",
      "Trial - 1750: Mean R 1.302 - MSE loss 0.103\n",
      "Trial - 2000: Mean R 1.269 - MSE loss 0.189\n",
      "Trial - 2250: Mean R 1.069 - MSE loss 0.094\n",
      "Trial - 2500: Mean R 0.856 - MSE loss 0.098\n",
      "Trial - 2750: Mean R 0.890 - MSE loss 0.153\n",
      "Trial - 3000: Mean R 1.069 - MSE loss 0.077\n",
      "Trial - 3250: Mean R 0.568 - MSE loss 0.052\n",
      "Trial - 3500: Mean R 0.893 - MSE loss 0.152\n",
      "Trial - 3750: Mean R 0.670 - MSE loss 0.058\n",
      "Trial - 4000: Mean R 0.707 - MSE loss 0.068\n",
      "Trial - 4250: Mean R 0.684 - MSE loss 0.097\n",
      "Trial - 4500: Mean R 0.649 - MSE loss 0.039\n",
      "Trial - 4750: Mean R 0.754 - MSE loss 0.028\n",
      "Trial - 5000: Mean R 0.602 - MSE loss 0.087\n",
      "Trial - 5250: Mean R 0.708 - MSE loss 0.046\n",
      "Trial - 5500: Mean R 0.782 - MSE loss 0.056\n",
      "Trial - 5750: Mean R 0.967 - MSE loss 0.074\n",
      "Trial - 6000: Mean R 0.647 - MSE loss 0.034\n",
      "Trial - 6250: Mean R 0.759 - MSE loss 0.062\n",
      "Trial - 6500: Mean R 0.807 - MSE loss 0.073\n",
      "Trial - 6750: Mean R 0.765 - MSE loss 0.076\n",
      "Trial - 7000: Mean R 0.820 - MSE loss 0.037\n",
      "Trial - 7250: Mean R 0.738 - MSE loss 0.051\n",
      "Trial - 7500: Mean R 0.739 - MSE loss 0.040\n",
      "Trial - 7750: Mean R 0.803 - MSE loss 0.054\n",
      "Trial - 8000: Mean R 0.768 - MSE loss 0.064\n",
      "Trial - 8250: Mean R 0.727 - MSE loss 0.036\n",
      "Trial - 8500: Mean R 0.827 - MSE loss 0.041\n",
      "Trial - 8750: Mean R 0.597 - MSE loss 0.019\n",
      "Trial - 9000: Mean R 0.673 - MSE loss 0.016\n",
      "Trial - 9250: Mean R 0.558 - MSE loss 0.054\n",
      "Trial - 9500: Mean R 0.768 - MSE loss 0.036\n",
      "Trial - 9750: Mean R 0.795 - MSE loss 0.042\n",
      "Trial - 10000: Mean R 0.647 - MSE loss 0.011\n",
      "\n",
      "Mean of average R for last 20 trials: 0.6511454488368129\n",
      "Best of average R for last 20 trials: 0.4987641091481002\n",
      "\n",
      "______________________________________________________________________\n",
      "\n",
      "Working on row: 7\n"
     ]
    },
    {
     "data": {
      "text/plain": [
       "act_func                    elu\n",
       "final_epsilon              0.01\n",
       "gamma                       0.8\n",
       "learning_rate             0.001\n",
       "n_hiddens_list       [512, 512]\n",
       "n_opt_iterations             15\n",
       "n_steps_per_trial           256\n",
       "n_trials                  10000\n",
       "polar_coord               False\n",
       "mean_last_20_r             None\n",
       "state_funcs                None\n",
       "Name: 7, dtype: object"
      ]
     },
     "metadata": {},
     "output_type": "display_data"
    },
    {
     "name": "stdout",
     "output_type": "stream",
     "text": [
      "Starting trials\n",
      "______________________________________________\n",
      "\n",
      "Trial - 250: Mean R 5.248 - MSE loss 1.718\n",
      "Trial - 500: Mean R 4.190 - MSE loss 0.969\n",
      "Trial - 750: Mean R 2.888 - MSE loss 0.678\n",
      "Trial - 1000: Mean R 3.106 - MSE loss 0.464\n",
      "Trial - 1250: Mean R 2.575 - MSE loss 0.344\n",
      "Trial - 1500: Mean R 2.537 - MSE loss 0.414\n",
      "Trial - 1750: Mean R 1.860 - MSE loss 0.213\n",
      "Trial - 2000: Mean R 2.401 - MSE loss 0.367\n",
      "Trial - 2250: Mean R 2.799 - MSE loss 0.444\n",
      "Trial - 2500: Mean R 1.598 - MSE loss 0.230\n",
      "Trial - 2750: Mean R 2.186 - MSE loss 0.242\n",
      "Trial - 3000: Mean R 3.126 - MSE loss 0.296\n",
      "Trial - 3250: Mean R 2.068 - MSE loss 0.232\n",
      "Trial - 3500: Mean R 2.424 - MSE loss 0.560\n",
      "Trial - 3750: Mean R 1.139 - MSE loss 0.172\n",
      "Trial - 4000: Mean R 1.433 - MSE loss 0.317\n",
      "Trial - 4250: Mean R 2.947 - MSE loss 0.436\n",
      "Trial - 4500: Mean R 2.048 - MSE loss 0.281\n",
      "Trial - 4750: Mean R 2.297 - MSE loss 0.245\n",
      "Trial - 5000: Mean R 2.015 - MSE loss 0.208\n",
      "Trial - 5250: Mean R 2.618 - MSE loss 0.165\n",
      "Trial - 5500: Mean R 1.627 - MSE loss 0.170\n",
      "Trial - 5750: Mean R 2.121 - MSE loss 0.159\n",
      "Trial - 6000: Mean R 1.701 - MSE loss 0.261\n",
      "Trial - 6250: Mean R 1.754 - MSE loss 0.126\n",
      "Trial - 6500: Mean R 1.799 - MSE loss 0.067\n",
      "Trial - 6750: Mean R 2.422 - MSE loss 0.099\n",
      "Trial - 7000: Mean R 1.643 - MSE loss 0.125\n",
      "Trial - 7250: Mean R 1.795 - MSE loss 0.151\n",
      "Trial - 7500: Mean R 1.497 - MSE loss 0.105\n",
      "Trial - 7750: Mean R 1.888 - MSE loss 0.094\n",
      "Trial - 8000: Mean R 1.721 - MSE loss 0.138\n",
      "Trial - 8250: Mean R 2.013 - MSE loss 0.186\n",
      "Trial - 8500: Mean R 2.542 - MSE loss 0.322\n",
      "Trial - 8750: Mean R 0.924 - MSE loss 0.084\n",
      "Trial - 9000: Mean R 1.629 - MSE loss 0.103\n",
      "Trial - 9250: Mean R 1.577 - MSE loss 0.141\n",
      "Trial - 9500: Mean R 1.749 - MSE loss 0.099\n",
      "Trial - 9750: Mean R 1.375 - MSE loss 0.111\n",
      "Trial - 10000: Mean R 1.442 - MSE loss 0.075\n",
      "\n",
      "Mean of average R for last 20 trials: 1.294156456012114\n",
      "Best of average R for last 20 trials: 0.4987641091481002\n",
      "\n",
      "______________________________________________________________________\n",
      "\n",
      "Working on row: 8\n"
     ]
    },
    {
     "data": {
      "text/plain": [
       "act_func                    elu\n",
       "final_epsilon              0.01\n",
       "gamma                       0.8\n",
       "learning_rate             0.001\n",
       "n_hiddens_list       [512, 512]\n",
       "n_opt_iterations             35\n",
       "n_steps_per_trial           256\n",
       "n_trials                  10000\n",
       "polar_coord                True\n",
       "mean_last_20_r             None\n",
       "state_funcs                None\n",
       "Name: 8, dtype: object"
      ]
     },
     "metadata": {},
     "output_type": "display_data"
    },
    {
     "name": "stdout",
     "output_type": "stream",
     "text": [
      "Starting trials\n",
      "______________________________________________\n",
      "\n",
      "Trial - 250: Mean R 5.299 - MSE loss 0.617\n",
      "Trial - 500: Mean R 2.372 - MSE loss 0.192\n",
      "Trial - 750: Mean R 1.477 - MSE loss 0.099\n",
      "Trial - 1000: Mean R 1.521 - MSE loss 0.119\n",
      "Trial - 1250: Mean R 1.176 - MSE loss 0.089\n",
      "Trial - 1500: Mean R 0.970 - MSE loss 0.096\n",
      "Trial - 1750: Mean R 1.045 - MSE loss 0.059\n",
      "Trial - 2000: Mean R 0.851 - MSE loss 0.056\n",
      "Trial - 2250: Mean R 0.743 - MSE loss 0.056\n",
      "Trial - 2500: Mean R 0.692 - MSE loss 0.033\n",
      "Trial - 2750: Mean R 0.629 - MSE loss 0.032\n",
      "Trial - 3000: Mean R 0.789 - MSE loss 0.047\n",
      "Trial - 3250: Mean R 0.520 - MSE loss 0.024\n",
      "Trial - 3500: Mean R 0.697 - MSE loss 0.028\n",
      "Trial - 3750: Mean R 0.515 - MSE loss 0.014\n",
      "Trial - 4000: Mean R 0.567 - MSE loss 0.020\n",
      "Trial - 4250: Mean R 0.568 - MSE loss 0.024\n",
      "Trial - 4500: Mean R 0.609 - MSE loss 0.015\n",
      "Trial - 4750: Mean R 0.588 - MSE loss 0.013\n",
      "Trial - 5000: Mean R 0.494 - MSE loss 0.009\n",
      "Trial - 5250: Mean R 0.668 - MSE loss 0.014\n",
      "Trial - 5500: Mean R 0.605 - MSE loss 0.010\n",
      "Trial - 5750: Mean R 0.590 - MSE loss 0.011\n",
      "Trial - 6000: Mean R 0.454 - MSE loss 0.005\n",
      "Trial - 6250: Mean R 0.553 - MSE loss 0.016\n",
      "Trial - 6500: Mean R 0.617 - MSE loss 0.006\n",
      "Trial - 6750: Mean R 0.641 - MSE loss 0.007\n",
      "Trial - 7000: Mean R 0.626 - MSE loss 0.004\n",
      "Trial - 7250: Mean R 0.576 - MSE loss 0.004\n",
      "Trial - 7500: Mean R 0.522 - MSE loss 0.005\n",
      "Trial - 7750: Mean R 0.464 - MSE loss 0.008\n",
      "Trial - 8000: Mean R 0.411 - MSE loss 0.005\n",
      "Trial - 8250: Mean R 0.459 - MSE loss 0.004\n",
      "Trial - 8500: Mean R 0.522 - MSE loss 0.004\n",
      "Trial - 8750: Mean R 0.405 - MSE loss 0.002\n",
      "Trial - 9000: Mean R 0.390 - MSE loss 0.004\n",
      "Trial - 9250: Mean R 0.483 - MSE loss 0.002\n",
      "Trial - 9500: Mean R 0.557 - MSE loss 0.002\n",
      "Trial - 9750: Mean R 0.640 - MSE loss 0.003\n",
      "Trial - 10000: Mean R 0.346 - MSE loss 0.002\n",
      "\n",
      "Mean of average R for last 20 trials: 0.41163729167368646\n",
      "Best of average R for last 20 trials: 0.41163729167368646\n",
      "\n",
      "______________________________________________________________________\n",
      "\n",
      "Working on row: 9\n"
     ]
    },
    {
     "data": {
      "text/plain": [
       "act_func                    elu\n",
       "final_epsilon              0.01\n",
       "gamma                       0.8\n",
       "learning_rate             0.001\n",
       "n_hiddens_list       [512, 512]\n",
       "n_opt_iterations             35\n",
       "n_steps_per_trial           256\n",
       "n_trials                  10000\n",
       "polar_coord               False\n",
       "mean_last_20_r             None\n",
       "state_funcs                None\n",
       "Name: 9, dtype: object"
      ]
     },
     "metadata": {},
     "output_type": "display_data"
    },
    {
     "name": "stdout",
     "output_type": "stream",
     "text": [
      "Starting trials\n",
      "______________________________________________\n",
      "\n",
      "Trial - 250: Mean R 5.330 - MSE loss 0.696\n",
      "Trial - 500: Mean R 3.340 - MSE loss 0.199\n",
      "Trial - 750: Mean R 1.673 - MSE loss 0.117\n",
      "Trial - 1000: Mean R 2.351 - MSE loss 0.139\n",
      "Trial - 1250: Mean R 2.082 - MSE loss 0.062\n",
      "Trial - 1500: Mean R 1.953 - MSE loss 0.082\n",
      "Trial - 1750: Mean R 1.835 - MSE loss 0.083\n",
      "Trial - 2000: Mean R 1.802 - MSE loss 0.066\n",
      "Trial - 2250: Mean R 1.608 - MSE loss 0.044\n",
      "Trial - 2500: Mean R 1.321 - MSE loss 0.037\n",
      "Trial - 2750: Mean R 1.190 - MSE loss 0.031\n",
      "Trial - 3000: Mean R 2.010 - MSE loss 0.057\n",
      "Trial - 3250: Mean R 1.143 - MSE loss 0.027\n",
      "Trial - 3500: Mean R 1.397 - MSE loss 0.031\n",
      "Trial - 3750: Mean R 0.891 - MSE loss 0.022\n",
      "Trial - 4000: Mean R 0.752 - MSE loss 0.020\n",
      "Trial - 4250: Mean R 1.137 - MSE loss 0.024\n",
      "Trial - 4500: Mean R 0.938 - MSE loss 0.017\n",
      "Trial - 4750: Mean R 0.838 - MSE loss 0.016\n",
      "Trial - 5000: Mean R 0.854 - MSE loss 0.010\n",
      "Trial - 5250: Mean R 0.882 - MSE loss 0.019\n",
      "Trial - 5500: Mean R 0.683 - MSE loss 0.010\n",
      "Trial - 5750: Mean R 0.768 - MSE loss 0.011\n",
      "Trial - 6000: Mean R 0.552 - MSE loss 0.007\n",
      "Trial - 6250: Mean R 0.670 - MSE loss 0.013\n",
      "Trial - 6500: Mean R 0.705 - MSE loss 0.010\n",
      "Trial - 6750: Mean R 0.605 - MSE loss 0.009\n",
      "Trial - 7000: Mean R 0.584 - MSE loss 0.005\n",
      "Trial - 7250: Mean R 0.481 - MSE loss 0.004\n",
      "Trial - 7500: Mean R 0.779 - MSE loss 0.008\n",
      "Trial - 7750: Mean R 0.744 - MSE loss 0.007\n",
      "Trial - 8000: Mean R 0.669 - MSE loss 0.006\n",
      "Trial - 8250: Mean R 0.619 - MSE loss 0.004\n",
      "Trial - 8500: Mean R 0.658 - MSE loss 0.004\n",
      "Trial - 8750: Mean R 0.509 - MSE loss 0.004\n",
      "Trial - 9000: Mean R 0.556 - MSE loss 0.005\n",
      "Trial - 9250: Mean R 0.446 - MSE loss 0.002\n",
      "Trial - 9500: Mean R 1.045 - MSE loss 0.008\n",
      "Trial - 9750: Mean R 0.616 - MSE loss 0.003\n",
      "Trial - 10000: Mean R 0.544 - MSE loss 0.002\n",
      "\n",
      "Mean of average R for last 20 trials: 0.5504501521250867\n",
      "Best of average R for last 20 trials: 0.41163729167368646\n",
      "\n",
      "______________________________________________________________________\n",
      "\n",
      "Working on row: 10\n"
     ]
    },
    {
     "data": {
      "text/plain": [
       "act_func                    elu\n",
       "final_epsilon              0.01\n",
       "gamma                       0.8\n",
       "learning_rate             0.001\n",
       "n_hiddens_list       [512, 512]\n",
       "n_opt_iterations             75\n",
       "n_steps_per_trial           256\n",
       "n_trials                  10000\n",
       "polar_coord                True\n",
       "mean_last_20_r             None\n",
       "state_funcs                None\n",
       "Name: 10, dtype: object"
      ]
     },
     "metadata": {},
     "output_type": "display_data"
    },
    {
     "name": "stdout",
     "output_type": "stream",
     "text": [
      "Starting trials\n",
      "______________________________________________\n",
      "\n",
      "Trial - 250: Mean R 4.004 - MSE loss 0.188\n",
      "Trial - 500: Mean R 1.834 - MSE loss 0.082\n",
      "Trial - 750: Mean R 1.426 - MSE loss 0.085\n",
      "Trial - 1000: Mean R 1.677 - MSE loss 0.082\n",
      "Trial - 1250: Mean R 1.110 - MSE loss 0.071\n",
      "Trial - 1500: Mean R 1.072 - MSE loss 0.078\n",
      "Trial - 1750: Mean R 1.152 - MSE loss 0.037\n",
      "Trial - 2000: Mean R 0.891 - MSE loss 0.051\n",
      "Trial - 2250: Mean R 0.842 - MSE loss 0.025\n",
      "Trial - 2500: Mean R 0.652 - MSE loss 0.029\n",
      "Trial - 2750: Mean R 0.681 - MSE loss 0.029\n",
      "Trial - 3000: Mean R 0.666 - MSE loss 0.038\n",
      "Trial - 3250: Mean R 0.550 - MSE loss 0.017\n",
      "Trial - 3500: Mean R 0.672 - MSE loss 0.021\n",
      "Trial - 3750: Mean R 0.543 - MSE loss 0.012\n",
      "Trial - 4000: Mean R 0.582 - MSE loss 0.018\n",
      "Trial - 4250: Mean R 0.636 - MSE loss 0.023\n",
      "Trial - 4500: Mean R 0.536 - MSE loss 0.012\n",
      "Trial - 4750: Mean R 0.631 - MSE loss 0.014\n",
      "Trial - 5000: Mean R 0.488 - MSE loss 0.006\n",
      "Trial - 5250: Mean R 0.653 - MSE loss 0.014\n",
      "Trial - 5500: Mean R 0.687 - MSE loss 0.006\n",
      "Trial - 5750: Mean R 0.645 - MSE loss 0.009\n",
      "Trial - 6000: Mean R 0.487 - MSE loss 0.005\n",
      "Trial - 6250: Mean R 0.518 - MSE loss 0.010\n",
      "Trial - 6500: Mean R 0.596 - MSE loss 0.005\n",
      "Trial - 6750: Mean R 0.572 - MSE loss 0.004\n",
      "Trial - 7000: Mean R 0.639 - MSE loss 0.002\n",
      "Trial - 7250: Mean R 0.544 - MSE loss 0.003\n",
      "Trial - 7500: Mean R 0.581 - MSE loss 0.003\n",
      "Trial - 7750: Mean R 0.473 - MSE loss 0.007\n",
      "Trial - 8000: Mean R 0.530 - MSE loss 0.002\n",
      "Trial - 8250: Mean R 0.501 - MSE loss 0.002\n",
      "Trial - 8500: Mean R 0.486 - MSE loss 0.004\n",
      "Trial - 8750: Mean R 0.445 - MSE loss 0.001\n",
      "Trial - 9000: Mean R 0.441 - MSE loss 0.003\n",
      "Trial - 9250: Mean R 0.471 - MSE loss 0.001\n",
      "Trial - 9500: Mean R 0.532 - MSE loss 0.001\n",
      "Trial - 9750: Mean R 0.513 - MSE loss 0.001\n",
      "Trial - 10000: Mean R 0.360 - MSE loss 0.001\n",
      "\n",
      "Mean of average R for last 20 trials: 0.4452110787805867\n",
      "Best of average R for last 20 trials: 0.41163729167368646\n",
      "\n",
      "______________________________________________________________________\n",
      "\n",
      "Working on row: 11\n"
     ]
    },
    {
     "data": {
      "text/plain": [
       "act_func                    elu\n",
       "final_epsilon              0.01\n",
       "gamma                       0.8\n",
       "learning_rate             0.001\n",
       "n_hiddens_list       [512, 512]\n",
       "n_opt_iterations             75\n",
       "n_steps_per_trial           256\n",
       "n_trials                  10000\n",
       "polar_coord               False\n",
       "mean_last_20_r             None\n",
       "state_funcs                None\n",
       "Name: 11, dtype: object"
      ]
     },
     "metadata": {},
     "output_type": "display_data"
    },
    {
     "name": "stdout",
     "output_type": "stream",
     "text": [
      "Starting trials\n",
      "______________________________________________\n",
      "\n",
      "Trial - 250: Mean R 4.070 - MSE loss 0.172\n",
      "Trial - 500: Mean R 2.666 - MSE loss 0.086\n",
      "Trial - 750: Mean R 1.769 - MSE loss 0.055\n",
      "Trial - 1000: Mean R 2.761 - MSE loss 0.035\n",
      "Trial - 1250: Mean R 1.962 - MSE loss 0.043\n",
      "Trial - 1500: Mean R 1.747 - MSE loss 0.056\n",
      "Trial - 1750: Mean R 1.612 - MSE loss 0.023\n",
      "Trial - 2000: Mean R 1.938 - MSE loss 0.035\n",
      "Trial - 2250: Mean R 1.696 - MSE loss 0.022\n",
      "Trial - 2500: Mean R 1.383 - MSE loss 0.031\n",
      "Trial - 2750: Mean R 0.954 - MSE loss 0.025\n",
      "Trial - 3000: Mean R 1.368 - MSE loss 0.026\n",
      "Trial - 3250: Mean R 1.023 - MSE loss 0.011\n",
      "Trial - 3500: Mean R 1.240 - MSE loss 0.012\n",
      "Trial - 3750: Mean R 0.663 - MSE loss 0.012\n",
      "Trial - 4000: Mean R 0.821 - MSE loss 0.013\n",
      "Trial - 4250: Mean R 0.979 - MSE loss 0.016\n",
      "Trial - 4500: Mean R 0.776 - MSE loss 0.007\n",
      "Trial - 4750: Mean R 0.859 - MSE loss 0.011\n",
      "Trial - 5000: Mean R 0.628 - MSE loss 0.004\n",
      "Trial - 5250: Mean R 0.765 - MSE loss 0.011\n",
      "Trial - 5500: Mean R 0.526 - MSE loss 0.008\n",
      "Trial - 5750: Mean R 0.520 - MSE loss 0.014\n",
      "Trial - 6000: Mean R 1.125 - MSE loss 0.006\n",
      "Trial - 6250: Mean R 0.483 - MSE loss 0.014\n",
      "Trial - 6500: Mean R 0.675 - MSE loss 0.004\n",
      "Trial - 6750: Mean R 0.716 - MSE loss 0.003\n",
      "Trial - 7000: Mean R 0.567 - MSE loss 0.003\n",
      "Trial - 7250: Mean R 0.550 - MSE loss 0.002\n",
      "Trial - 7500: Mean R 0.619 - MSE loss 0.005\n",
      "Trial - 7750: Mean R 0.643 - MSE loss 0.007\n",
      "Trial - 8000: Mean R 0.604 - MSE loss 0.002\n",
      "Trial - 8250: Mean R 0.488 - MSE loss 0.002\n",
      "Trial - 8500: Mean R 0.610 - MSE loss 0.002\n",
      "Trial - 8750: Mean R 0.472 - MSE loss 0.001\n",
      "Trial - 9000: Mean R 0.482 - MSE loss 0.003\n",
      "Trial - 9250: Mean R 0.475 - MSE loss 0.001\n",
      "Trial - 9500: Mean R 0.482 - MSE loss 0.001\n",
      "Trial - 9750: Mean R 0.551 - MSE loss 0.002\n",
      "Trial - 10000: Mean R 0.545 - MSE loss 0.001\n",
      "\n",
      "Mean of average R for last 20 trials: 0.5646960209902148\n",
      "Best of average R for last 20 trials: 0.41163729167368646\n",
      "\n",
      "______________________________________________________________________\n",
      "\n",
      "Working on row: 12\n"
     ]
    },
    {
     "data": {
      "text/plain": [
       "act_func                    elu\n",
       "final_epsilon              0.01\n",
       "gamma                       0.8\n",
       "learning_rate             0.001\n",
       "n_hiddens_list       [768, 768]\n",
       "n_opt_iterations             15\n",
       "n_steps_per_trial           256\n",
       "n_trials                  10000\n",
       "polar_coord                True\n",
       "mean_last_20_r             None\n",
       "state_funcs                None\n",
       "Name: 12, dtype: object"
      ]
     },
     "metadata": {},
     "output_type": "display_data"
    },
    {
     "name": "stdout",
     "output_type": "stream",
     "text": [
      "Starting trials\n",
      "______________________________________________\n",
      "\n",
      "Trial - 250: Mean R 5.254 - MSE loss 2.288\n",
      "Trial - 500: Mean R 3.399 - MSE loss 1.150\n",
      "Trial - 750: Mean R 2.589 - MSE loss 0.484\n",
      "Trial - 1000: Mean R 2.566 - MSE loss 0.428\n",
      "Trial - 1250: Mean R 1.268 - MSE loss 0.268\n",
      "Trial - 1500: Mean R 1.344 - MSE loss 0.281\n",
      "Trial - 1750: Mean R 1.363 - MSE loss 0.123\n",
      "Trial - 2000: Mean R 1.121 - MSE loss 0.133\n",
      "Trial - 2250: Mean R 1.339 - MSE loss 0.738\n",
      "Trial - 2500: Mean R 0.782 - MSE loss 0.112\n",
      "Trial - 2750: Mean R 1.397 - MSE loss 0.121\n",
      "Trial - 3000: Mean R 1.021 - MSE loss 0.118\n",
      "Trial - 3250: Mean R 0.640 - MSE loss 0.051\n",
      "Trial - 3500: Mean R 0.870 - MSE loss 0.090\n",
      "Trial - 3750: Mean R 0.685 - MSE loss 0.044\n",
      "Trial - 4000: Mean R 0.741 - MSE loss 0.097\n",
      "Trial - 4250: Mean R 1.052 - MSE loss 0.224\n",
      "Trial - 4500: Mean R 0.765 - MSE loss 0.035\n",
      "Trial - 4750: Mean R 0.676 - MSE loss 0.052\n",
      "Trial - 5000: Mean R 0.651 - MSE loss 0.049\n",
      "Trial - 5250: Mean R 0.877 - MSE loss 0.088\n",
      "Trial - 5500: Mean R 0.907 - MSE loss 0.084\n",
      "Trial - 5750: Mean R 0.848 - MSE loss 0.051\n",
      "Trial - 6000: Mean R 0.843 - MSE loss 0.125\n",
      "Trial - 6250: Mean R 0.911 - MSE loss 0.073\n",
      "Trial - 6500: Mean R 0.967 - MSE loss 0.064\n",
      "Trial - 6750: Mean R 0.881 - MSE loss 0.125\n",
      "Trial - 7000: Mean R 1.129 - MSE loss 0.094\n",
      "Trial - 7250: Mean R 0.937 - MSE loss 0.042\n",
      "Trial - 7500: Mean R 0.838 - MSE loss 0.049\n",
      "Trial - 7750: Mean R 0.702 - MSE loss 0.046\n",
      "Trial - 8000: Mean R 0.743 - MSE loss 0.085\n",
      "Trial - 8250: Mean R 0.791 - MSE loss 0.033\n",
      "Trial - 8500: Mean R 1.162 - MSE loss 0.106\n",
      "Trial - 8750: Mean R 0.789 - MSE loss 0.074\n",
      "Trial - 9000: Mean R 0.823 - MSE loss 0.030\n",
      "Trial - 9250: Mean R 0.636 - MSE loss 0.050\n",
      "Trial - 9500: Mean R 0.891 - MSE loss 0.085\n",
      "Trial - 9750: Mean R 0.895 - MSE loss 0.031\n",
      "Trial - 10000: Mean R 0.643 - MSE loss 0.045\n",
      "\n",
      "Mean of average R for last 20 trials: 0.7905217277565514\n",
      "Best of average R for last 20 trials: 0.41163729167368646\n",
      "\n",
      "______________________________________________________________________\n",
      "\n",
      "Working on row: 13\n"
     ]
    },
    {
     "data": {
      "text/plain": [
       "act_func                    elu\n",
       "final_epsilon              0.01\n",
       "gamma                       0.8\n",
       "learning_rate             0.001\n",
       "n_hiddens_list       [768, 768]\n",
       "n_opt_iterations             15\n",
       "n_steps_per_trial           256\n",
       "n_trials                  10000\n",
       "polar_coord               False\n",
       "mean_last_20_r             None\n",
       "state_funcs                None\n",
       "Name: 13, dtype: object"
      ]
     },
     "metadata": {},
     "output_type": "display_data"
    },
    {
     "name": "stdout",
     "output_type": "stream",
     "text": [
      "Starting trials\n",
      "______________________________________________\n",
      "\n",
      "Trial - 250: Mean R 5.270 - MSE loss 1.872\n",
      "Trial - 500: Mean R 3.773 - MSE loss 1.389\n",
      "Trial - 750: Mean R 2.460 - MSE loss 1.022\n",
      "Trial - 1000: Mean R 3.444 - MSE loss 0.629\n",
      "Trial - 1250: Mean R 2.568 - MSE loss 0.288\n",
      "Trial - 1500: Mean R 2.685 - MSE loss 0.341\n",
      "Trial - 1750: Mean R 2.155 - MSE loss 0.209\n",
      "Trial - 2000: Mean R 2.362 - MSE loss 0.428\n",
      "Trial - 2250: Mean R 2.661 - MSE loss 0.325\n",
      "Trial - 2500: Mean R 2.009 - MSE loss 0.157\n",
      "Trial - 2750: Mean R 1.717 - MSE loss 0.123\n",
      "Trial - 3000: Mean R 1.956 - MSE loss 0.603\n",
      "Trial - 3250: Mean R 2.166 - MSE loss 0.101\n",
      "Trial - 3500: Mean R 1.822 - MSE loss 0.194\n",
      "Trial - 3750: Mean R 1.379 - MSE loss 0.104\n",
      "Trial - 4000: Mean R 1.090 - MSE loss 0.119\n",
      "Trial - 4250: Mean R 2.044 - MSE loss 0.184\n",
      "Trial - 4500: Mean R 1.209 - MSE loss 0.101\n",
      "Trial - 4750: Mean R 1.605 - MSE loss 0.131\n",
      "Trial - 5000: Mean R 1.998 - MSE loss 0.156\n",
      "Trial - 5250: Mean R 1.791 - MSE loss 0.138\n",
      "Trial - 5500: Mean R 0.894 - MSE loss 0.042\n",
      "Trial - 5750: Mean R 1.369 - MSE loss 0.127\n",
      "Trial - 6000: Mean R 0.893 - MSE loss 0.041\n",
      "Trial - 6250: Mean R 1.336 - MSE loss 0.105\n",
      "Trial - 6500: Mean R 1.657 - MSE loss 0.075\n",
      "Trial - 6750: Mean R 1.051 - MSE loss 0.075\n",
      "Trial - 7000: Mean R 1.595 - MSE loss 0.081\n",
      "Trial - 7250: Mean R 0.965 - MSE loss 0.033\n",
      "Trial - 7500: Mean R 0.694 - MSE loss 0.041\n",
      "Trial - 7750: Mean R 1.115 - MSE loss 0.056\n",
      "Trial - 8000: Mean R 1.306 - MSE loss 0.046\n",
      "Trial - 8250: Mean R 0.993 - MSE loss 0.033\n",
      "Trial - 8500: Mean R 0.979 - MSE loss 0.060\n",
      "Trial - 8750: Mean R 1.875 - MSE loss 0.140\n",
      "Trial - 9000: Mean R 1.765 - MSE loss 0.116\n",
      "Trial - 9250: Mean R 1.768 - MSE loss 0.090\n",
      "Trial - 9500: Mean R 1.306 - MSE loss 0.048\n",
      "Trial - 9750: Mean R 1.255 - MSE loss 0.053\n",
      "Trial - 10000: Mean R 1.269 - MSE loss 0.057\n",
      "\n",
      "Mean of average R for last 20 trials: 1.6271338052748807\n",
      "Best of average R for last 20 trials: 0.41163729167368646\n",
      "\n",
      "______________________________________________________________________\n",
      "\n",
      "Working on row: 14\n"
     ]
    },
    {
     "data": {
      "text/plain": [
       "act_func                    elu\n",
       "final_epsilon              0.01\n",
       "gamma                       0.8\n",
       "learning_rate             0.001\n",
       "n_hiddens_list       [768, 768]\n",
       "n_opt_iterations             35\n",
       "n_steps_per_trial           256\n",
       "n_trials                  10000\n",
       "polar_coord                True\n",
       "mean_last_20_r             None\n",
       "state_funcs                None\n",
       "Name: 14, dtype: object"
      ]
     },
     "metadata": {},
     "output_type": "display_data"
    },
    {
     "name": "stdout",
     "output_type": "stream",
     "text": [
      "Starting trials\n",
      "______________________________________________\n",
      "\n",
      "Trial - 250: Mean R 5.554 - MSE loss 0.835\n",
      "Trial - 500: Mean R 2.579 - MSE loss 0.275\n",
      "Trial - 750: Mean R 1.948 - MSE loss 0.158\n",
      "Trial - 1000: Mean R 1.770 - MSE loss 0.088\n",
      "Trial - 1250: Mean R 1.130 - MSE loss 0.078\n",
      "Trial - 1500: Mean R 0.972 - MSE loss 0.101\n",
      "Trial - 1750: Mean R 0.944 - MSE loss 0.055\n",
      "Trial - 2000: Mean R 0.851 - MSE loss 0.058\n",
      "Trial - 2250: Mean R 0.845 - MSE loss 0.040\n",
      "Trial - 2500: Mean R 0.595 - MSE loss 0.036\n",
      "Trial - 2750: Mean R 0.620 - MSE loss 0.032\n",
      "Trial - 3000: Mean R 0.674 - MSE loss 0.045\n",
      "Trial - 3250: Mean R 0.535 - MSE loss 0.019\n",
      "Trial - 3500: Mean R 0.645 - MSE loss 0.025\n",
      "Trial - 3750: Mean R 0.495 - MSE loss 0.015\n",
      "Trial - 4000: Mean R 0.587 - MSE loss 0.022\n",
      "Trial - 4250: Mean R 0.667 - MSE loss 0.020\n",
      "Trial - 4500: Mean R 0.477 - MSE loss 0.015\n",
      "Trial - 4750: Mean R 0.658 - MSE loss 0.019\n",
      "Trial - 5000: Mean R 0.465 - MSE loss 0.009\n",
      "Trial - 5250: Mean R 0.621 - MSE loss 0.016\n",
      "Trial - 5500: Mean R 0.521 - MSE loss 0.010\n",
      "Trial - 5750: Mean R 0.580 - MSE loss 0.009\n",
      "Trial - 6000: Mean R 0.504 - MSE loss 0.005\n",
      "Trial - 6250: Mean R 0.566 - MSE loss 0.011\n",
      "Trial - 6500: Mean R 0.580 - MSE loss 0.009\n",
      "Trial - 6750: Mean R 0.546 - MSE loss 0.007\n",
      "Trial - 7000: Mean R 0.639 - MSE loss 0.005\n",
      "Trial - 7250: Mean R 0.650 - MSE loss 0.004\n",
      "Trial - 7500: Mean R 0.506 - MSE loss 0.004\n",
      "Trial - 7750: Mean R 0.475 - MSE loss 0.007\n",
      "Trial - 8000: Mean R 0.463 - MSE loss 0.002\n",
      "Trial - 8250: Mean R 0.478 - MSE loss 0.003\n",
      "Trial - 8500: Mean R 0.484 - MSE loss 0.005\n",
      "Trial - 8750: Mean R 0.418 - MSE loss 0.002\n",
      "Trial - 9000: Mean R 0.385 - MSE loss 0.003\n",
      "Trial - 9250: Mean R 0.486 - MSE loss 0.003\n",
      "Trial - 9500: Mean R 0.567 - MSE loss 0.002\n",
      "Trial - 9750: Mean R 0.555 - MSE loss 0.003\n",
      "Trial - 10000: Mean R 0.406 - MSE loss 0.003\n",
      "\n",
      "Mean of average R for last 20 trials: 0.5967261013507581\n",
      "Best of average R for last 20 trials: 0.41163729167368646\n",
      "\n",
      "______________________________________________________________________\n",
      "\n",
      "Working on row: 15\n"
     ]
    },
    {
     "data": {
      "text/plain": [
       "act_func                    elu\n",
       "final_epsilon              0.01\n",
       "gamma                       0.8\n",
       "learning_rate             0.001\n",
       "n_hiddens_list       [768, 768]\n",
       "n_opt_iterations             35\n",
       "n_steps_per_trial           256\n",
       "n_trials                  10000\n",
       "polar_coord               False\n",
       "mean_last_20_r             None\n",
       "state_funcs                None\n",
       "Name: 15, dtype: object"
      ]
     },
     "metadata": {},
     "output_type": "display_data"
    },
    {
     "name": "stdout",
     "output_type": "stream",
     "text": [
      "Starting trials\n",
      "______________________________________________\n",
      "\n",
      "Trial - 250: Mean R 4.845 - MSE loss 0.899\n",
      "Trial - 500: Mean R 3.370 - MSE loss 0.311\n",
      "Trial - 750: Mean R 2.366 - MSE loss 0.317\n",
      "Trial - 1000: Mean R 2.610 - MSE loss 0.164\n",
      "Trial - 1250: Mean R 2.001 - MSE loss 0.074\n",
      "Trial - 1500: Mean R 2.147 - MSE loss 0.082\n",
      "Trial - 1750: Mean R 1.904 - MSE loss 0.059\n",
      "Trial - 2000: Mean R 1.993 - MSE loss 0.077\n",
      "Trial - 2250: Mean R 2.185 - MSE loss 0.055\n",
      "Trial - 2500: Mean R 1.601 - MSE loss 0.043\n",
      "Trial - 2750: Mean R 1.538 - MSE loss 0.045\n",
      "Trial - 3000: Mean R 2.374 - MSE loss 0.053\n",
      "Trial - 3250: Mean R 1.499 - MSE loss 0.028\n",
      "Trial - 3500: Mean R 1.831 - MSE loss 0.049\n",
      "Trial - 3750: Mean R 1.018 - MSE loss 0.023\n",
      "Trial - 4000: Mean R 0.975 - MSE loss 0.023\n",
      "Trial - 4250: Mean R 1.397 - MSE loss 0.026\n",
      "Trial - 4500: Mean R 1.049 - MSE loss 0.017\n",
      "Trial - 4750: Mean R 1.218 - MSE loss 0.020\n",
      "Trial - 5000: Mean R 1.224 - MSE loss 0.016\n",
      "Trial - 5250: Mean R 1.115 - MSE loss 0.020\n",
      "Trial - 5500: Mean R 0.747 - MSE loss 0.009\n",
      "Trial - 5750: Mean R 0.837 - MSE loss 0.013\n",
      "Trial - 6000: Mean R 0.695 - MSE loss 0.007\n",
      "Trial - 6250: Mean R 0.671 - MSE loss 0.010\n",
      "Trial - 6500: Mean R 0.750 - MSE loss 0.010\n",
      "Trial - 6750: Mean R 0.682 - MSE loss 0.007\n",
      "Trial - 7000: Mean R 0.688 - MSE loss 0.006\n",
      "Trial - 7250: Mean R 0.541 - MSE loss 0.005\n",
      "Trial - 7500: Mean R 0.525 - MSE loss 0.006\n",
      "Trial - 7750: Mean R 0.695 - MSE loss 0.011\n",
      "Trial - 8000: Mean R 0.450 - MSE loss 0.005\n",
      "Trial - 8250: Mean R 0.592 - MSE loss 0.003\n",
      "Trial - 8500: Mean R 0.864 - MSE loss 0.005\n",
      "Trial - 8750: Mean R 0.559 - MSE loss 0.003\n",
      "Trial - 9000: Mean R 0.469 - MSE loss 0.005\n",
      "Trial - 9250: Mean R 0.423 - MSE loss 0.002\n",
      "Trial - 9500: Mean R 0.514 - MSE loss 0.003\n",
      "Trial - 9750: Mean R 0.625 - MSE loss 0.003\n",
      "Trial - 10000: Mean R 0.586 - MSE loss 0.003\n",
      "\n",
      "Mean of average R for last 20 trials: 0.6416555868258359\n",
      "Best of average R for last 20 trials: 0.41163729167368646\n",
      "\n",
      "______________________________________________________________________\n",
      "\n",
      "Working on row: 16\n"
     ]
    },
    {
     "data": {
      "text/plain": [
       "act_func                    elu\n",
       "final_epsilon              0.01\n",
       "gamma                       0.8\n",
       "learning_rate             0.001\n",
       "n_hiddens_list       [768, 768]\n",
       "n_opt_iterations             75\n",
       "n_steps_per_trial           256\n",
       "n_trials                  10000\n",
       "polar_coord                True\n",
       "mean_last_20_r             None\n",
       "state_funcs                None\n",
       "Name: 16, dtype: object"
      ]
     },
     "metadata": {},
     "output_type": "display_data"
    },
    {
     "name": "stdout",
     "output_type": "stream",
     "text": [
      "Starting trials\n",
      "______________________________________________\n",
      "\n",
      "Trial - 250: Mean R 4.442 - MSE loss 0.298\n",
      "Trial - 500: Mean R 2.469 - MSE loss 0.118\n",
      "Trial - 750: Mean R 1.289 - MSE loss 0.093\n",
      "Trial - 1000: Mean R 1.315 - MSE loss 0.068\n",
      "Trial - 1250: Mean R 1.078 - MSE loss 0.062\n",
      "Trial - 1500: Mean R 0.974 - MSE loss 0.081\n",
      "Trial - 1750: Mean R 1.106 - MSE loss 0.044\n",
      "Trial - 2000: Mean R 0.863 - MSE loss 0.047\n",
      "Trial - 2250: Mean R 0.759 - MSE loss 0.029\n",
      "Trial - 2500: Mean R 0.676 - MSE loss 0.023\n",
      "Trial - 2750: Mean R 0.735 - MSE loss 0.024\n",
      "Trial - 3000: Mean R 0.732 - MSE loss 0.036\n",
      "Trial - 3250: Mean R 0.554 - MSE loss 0.015\n",
      "Trial - 3500: Mean R 0.753 - MSE loss 0.023\n",
      "Trial - 3750: Mean R 0.523 - MSE loss 0.011\n",
      "Trial - 4000: Mean R 0.526 - MSE loss 0.018\n",
      "Trial - 4250: Mean R 0.676 - MSE loss 0.017\n",
      "Trial - 4500: Mean R 0.596 - MSE loss 0.011\n",
      "Trial - 4750: Mean R 0.664 - MSE loss 0.018\n",
      "Trial - 5000: Mean R 0.474 - MSE loss 0.005\n",
      "Trial - 5250: Mean R 0.611 - MSE loss 0.016\n",
      "Trial - 5500: Mean R 0.620 - MSE loss 0.008\n",
      "Trial - 5750: Mean R 0.686 - MSE loss 0.007\n",
      "Trial - 6000: Mean R 0.439 - MSE loss 0.004\n",
      "Trial - 6250: Mean R 0.618 - MSE loss 0.010\n",
      "Trial - 6500: Mean R 0.595 - MSE loss 0.007\n",
      "Trial - 6750: Mean R 0.566 - MSE loss 0.003\n",
      "Trial - 7000: Mean R 0.600 - MSE loss 0.003\n",
      "Trial - 7250: Mean R 0.546 - MSE loss 0.002\n",
      "Trial - 7500: Mean R 0.661 - MSE loss 0.003\n",
      "Trial - 7750: Mean R 0.451 - MSE loss 0.005\n",
      "Trial - 8000: Mean R 0.452 - MSE loss 0.002\n",
      "Trial - 8250: Mean R 0.524 - MSE loss 0.002\n",
      "Trial - 8500: Mean R 0.546 - MSE loss 0.003\n",
      "Trial - 8750: Mean R 0.446 - MSE loss 0.001\n",
      "Trial - 9000: Mean R 0.489 - MSE loss 0.003\n",
      "Trial - 9250: Mean R 0.434 - MSE loss 0.001\n",
      "Trial - 9500: Mean R 0.586 - MSE loss 0.001\n",
      "Trial - 9750: Mean R 0.530 - MSE loss 0.001\n",
      "Trial - 10000: Mean R 0.435 - MSE loss 0.001\n",
      "\n",
      "Mean of average R for last 20 trials: 0.8082001750868711\n",
      "Best of average R for last 20 trials: 0.41163729167368646\n",
      "\n",
      "______________________________________________________________________\n",
      "\n",
      "Working on row: 17\n"
     ]
    },
    {
     "data": {
      "text/plain": [
       "act_func                    elu\n",
       "final_epsilon              0.01\n",
       "gamma                       0.8\n",
       "learning_rate             0.001\n",
       "n_hiddens_list       [768, 768]\n",
       "n_opt_iterations             75\n",
       "n_steps_per_trial           256\n",
       "n_trials                  10000\n",
       "polar_coord               False\n",
       "mean_last_20_r             None\n",
       "state_funcs                None\n",
       "Name: 17, dtype: object"
      ]
     },
     "metadata": {},
     "output_type": "display_data"
    },
    {
     "name": "stdout",
     "output_type": "stream",
     "text": [
      "Starting trials\n",
      "______________________________________________\n",
      "\n",
      "Trial - 250: Mean R 4.329 - MSE loss 0.243\n",
      "Trial - 500: Mean R 2.486 - MSE loss 0.091\n",
      "Trial - 750: Mean R 1.801 - MSE loss 0.058\n",
      "Trial - 1000: Mean R 2.668 - MSE loss 0.053\n",
      "Trial - 1250: Mean R 2.152 - MSE loss 0.045\n",
      "Trial - 1500: Mean R 2.026 - MSE loss 0.055\n",
      "Trial - 1750: Mean R 1.768 - MSE loss 0.031\n",
      "Trial - 2000: Mean R 1.943 - MSE loss 0.028\n",
      "Trial - 2250: Mean R 1.907 - MSE loss 0.017\n",
      "Trial - 2500: Mean R 1.347 - MSE loss 0.026\n",
      "Trial - 2750: Mean R 0.991 - MSE loss 0.020\n",
      "Trial - 3000: Mean R 2.114 - MSE loss 0.018\n",
      "Trial - 3250: Mean R 1.339 - MSE loss 0.010\n",
      "Trial - 3500: Mean R 1.548 - MSE loss 0.010\n",
      "Trial - 3750: Mean R 1.069 - MSE loss 0.009\n",
      "Trial - 4000: Mean R 0.967 - MSE loss 0.012\n",
      "Trial - 4250: Mean R 1.160 - MSE loss 0.015\n",
      "Trial - 4500: Mean R 0.937 - MSE loss 0.009\n",
      "Trial - 4750: Mean R 0.992 - MSE loss 0.011\n",
      "Trial - 5000: Mean R 0.887 - MSE loss 0.005\n",
      "Trial - 5250: Mean R 0.995 - MSE loss 0.010\n",
      "Trial - 5500: Mean R 0.625 - MSE loss 0.007\n",
      "Trial - 5750: Mean R 0.702 - MSE loss 0.013\n",
      "Trial - 6000: Mean R 0.550 - MSE loss 0.003\n",
      "Trial - 6250: Mean R 0.608 - MSE loss 0.010\n",
      "Trial - 6500: Mean R 0.660 - MSE loss 0.005\n",
      "Trial - 6750: Mean R 0.649 - MSE loss 0.003\n",
      "Trial - 7000: Mean R 0.628 - MSE loss 0.003\n",
      "Trial - 7250: Mean R 0.485 - MSE loss 0.003\n",
      "Trial - 7500: Mean R 0.533 - MSE loss 0.004\n",
      "Trial - 7750: Mean R 0.608 - MSE loss 0.006\n",
      "Trial - 8000: Mean R 0.436 - MSE loss 0.002\n",
      "Trial - 8250: Mean R 0.525 - MSE loss 0.002\n",
      "Trial - 8500: Mean R 0.674 - MSE loss 0.002\n",
      "Trial - 8750: Mean R 0.540 - MSE loss 0.001\n",
      "Trial - 9000: Mean R 0.496 - MSE loss 0.003\n",
      "Trial - 9250: Mean R 0.424 - MSE loss 0.001\n",
      "Trial - 9500: Mean R 0.613 - MSE loss 0.001\n",
      "Trial - 9750: Mean R 0.538 - MSE loss 0.001\n",
      "Trial - 10000: Mean R 0.561 - MSE loss 0.001\n",
      "\n",
      "Mean of average R for last 20 trials: 0.7099544007611314\n",
      "Best of average R for last 20 trials: 0.41163729167368646\n",
      "\n"
     ]
    }
   ],
   "source": [
    "# it seems wastefull to not to checkpoint the models instead of running all\n",
    "# all the separate number of trials, i.e. for [500, 1000] trials just checkpoint\n",
    "# the 500 trial and run only 1000 trials but this ignores the differences in\n",
    "# epsilon decay between 500 and 1000 trials, a model checkpointed at 500 trials\n",
    "# will taking more random actions than a model designed for 500 trials\n",
    "\n",
    "best_last_20 = np.inf\n",
    "t0 = time.time()\n",
    "\n",
    "for i in range(params.shape[0]):\n",
    "    \n",
    "    np.random.seed(42)\n",
    "    torch.manual_seed(42)\n",
    "    \n",
    "    \n",
    "    print('______________________________________________________________________\\n')\n",
    "    print(f'Working on row: {i}')\n",
    "    display(params.iloc[i,:])\n",
    "\n",
    "    Qnet, state_funcs, r_mean_trace, _, loss_trace, epsilon_trace = train(robot, \n",
    "                                                         params.polar_coord[i], \n",
    "                                                         valid_actions,\n",
    "                                                         params.n_hiddens_list[i],  \n",
    "                                                         params.n_trials[i],\n",
    "                                                         params.n_steps_per_trial[i], \n",
    "                                                         params.n_opt_iterations[i],\n",
    "                                                         params.final_epsilon[i],  \n",
    "                                                         params.gamma[i],\n",
    "                                                         params.learning_rate[i],\n",
    "                                                         params.act_func[i],\n",
    "                                                         random_goal,\n",
    "                                                         device\n",
    "                                                         )\n",
    "\n",
    "    # save traces\n",
    "    r_mean_trace_list[i] = r_mean_trace\n",
    "    loss_trace_list[i] = loss_trace\n",
    "    epsilon_trace_list[i] = epsilon_trace\n",
    "    \n",
    "    \n",
    "    # get mean of the last 20 average Rs\n",
    "    params.loc[i,'mean_last_20_r'] = np.mean(r_mean_trace[-20:])\n",
    "    \n",
    "    \n",
    "    # update best score and save Qnet to file\n",
    "    if best_last_20 > params.loc[i,'mean_last_20_r']:\n",
    "        # save Qnet model structure and state\n",
    "        torch.save({'state_dict': Qnet.state_dict()}, 'experiment/best_Qnet_state.pth')\n",
    "        joblib.dump(Qnet.model_to_dict(), 'experiment/best_Qnet_model.joblib')\n",
    "        \n",
    "        # update best score\n",
    "        best_last_20 = params.loc[i,'mean_last_20_r']\n",
    "        \n",
    "        \n",
    "    print(f'\\nMean of average R for last 20 trials: {params.mean_last_20_r[i]}')\n",
    "    print(f'Best of average R for last 20 trials: {best_last_20}\\n')\n",
    "    \n",
    "t1 = time.time()\n"
   ]
  },
  {
   "cell_type": "code",
   "execution_count": 268,
   "metadata": {},
   "outputs": [
    {
     "name": "stdout",
     "output_type": "stream",
     "text": [
      "elapsed hours: 18.790757615433797\n"
     ]
    }
   ],
   "source": [
    "print(f'elapsed hours: {(t1-t0)/3600}')"
   ]
  },
  {
   "cell_type": "code",
   "execution_count": 285,
   "metadata": {},
   "outputs": [
    {
     "data": {
      "text/plain": [
       "{'input_size': 14,\n",
       " 'h_sizes': [512, 512],\n",
       " 'n_out': 1,\n",
       " 'act_func': 'elu',\n",
       " 'use_layer_norm': True}"
      ]
     },
     "execution_count": 285,
     "metadata": {},
     "output_type": "execute_result"
    }
   ],
   "source": [
    "# load dictionary with the model definition for the best Qnet\n",
    "best_Qnet_model = joblib.load('experiment/best_Qnet_model.joblib')\n",
    "best_Qnet_model"
   ]
  },
  {
   "cell_type": "code",
   "execution_count": 286,
   "metadata": {},
   "outputs": [
    {
     "data": {
      "text/plain": [
       "{'input_size': 14,\n",
       " 'h_sizes': [512, 512],\n",
       " 'n_out': 1,\n",
       " 'act_func': 'elu',\n",
       " 'use_layer_norm': True}"
      ]
     },
     "execution_count": 286,
     "metadata": {},
     "output_type": "execute_result"
    }
   ],
   "source": [
    "# build model from definition\n",
    "best_Qnet = MLP(best_Qnet_model['input_size'], \n",
    "                best_Qnet_model['h_sizes'],\n",
    "                best_Qnet_model['n_out'],\n",
    "                best_Qnet_model['act_func'],\n",
    "                best_Qnet_model['use_layer_norm'])\n",
    "\n",
    "best_Qnet.model_to_dict()"
   ]
  },
  {
   "cell_type": "code",
   "execution_count": 287,
   "metadata": {},
   "outputs": [
    {
     "data": {
      "text/plain": [
       "<All keys matched successfully>"
      ]
     },
     "execution_count": 287,
     "metadata": {},
     "output_type": "execute_result"
    }
   ],
   "source": [
    "# load model state from best Qnet\n",
    "checkpoint = torch.load('experiment/best_Qnet_state.pth')\n",
    "\n",
    "# load model weights from best Qnet\n",
    "best_Qnet.load_state_dict(checkpoint['state_dict'])"
   ]
  },
  {
   "cell_type": "code",
   "execution_count": 272,
   "metadata": {},
   "outputs": [
    {
     "data": {
      "text/plain": [
       "['experiment_1.joblib']"
      ]
     },
     "execution_count": 272,
     "metadata": {},
     "output_type": "execute_result"
    }
   ],
   "source": [
    "# save experiment in dictionary\n",
    "experiment_1 = {'params':params.copy(), \n",
    "                'r_mean_trace_list':r_mean_trace_list.copy(),\n",
    "                'loss_trace_list':loss_trace_list.copy(),\n",
    "                'epsilon_trace_list':epsilon_trace_list.copy(),\n",
    "                'robot':robot,\n",
    "                'best_Qnet_model':best_Qnet.model_to_dict(),\n",
    "                'checkpoint':{'state_dict': best_Qnet.state_dict()}}\n",
    "                \n",
    "    \n",
    "# save experiment dictionary to file\n",
    "joblib.dump(experiment_1, 'experiment/experiment_1.joblib')"
   ]
  },
  {
   "cell_type": "code",
   "execution_count": 273,
   "metadata": {},
   "outputs": [],
   "source": [
    "# load best_Qnet from file if needed\n",
    "if False:\n",
    "    experiment_1 = joblib.load('experiment/experiment_1.joblib')\n",
    "    # get model definition\n",
    "    best_Qnet_model = experiment_1['best_Qnet_model']\n",
    "    # build model from definition\n",
    "    best_Qnet = MLP(best_Qnet_model['input_size'], \n",
    "                    best_Qnet_model['h_sizes'],\n",
    "                   best_Qnet_model['n_out'],\n",
    "                   best_Qnet_model['act_func'])\n",
    "    # load model weights from checkpoint\n",
    "    best_Qnet.load_state_dict(experiment_1['checkpoint']['state_dict'])"
   ]
  },
  {
   "cell_type": "code",
   "execution_count": 274,
   "metadata": {},
   "outputs": [
    {
     "name": "stdout",
     "output_type": "stream",
     "text": [
      "index of best model: 8\n"
     ]
    },
    {
     "data": {
      "text/html": [
       "<div>\n",
       "<style scoped>\n",
       "    .dataframe tbody tr th:only-of-type {\n",
       "        vertical-align: middle;\n",
       "    }\n",
       "\n",
       "    .dataframe tbody tr th {\n",
       "        vertical-align: top;\n",
       "    }\n",
       "\n",
       "    .dataframe thead th {\n",
       "        text-align: right;\n",
       "    }\n",
       "</style>\n",
       "<table border=\"1\" class=\"dataframe\">\n",
       "  <thead>\n",
       "    <tr style=\"text-align: right;\">\n",
       "      <th></th>\n",
       "      <th>act_func</th>\n",
       "      <th>final_epsilon</th>\n",
       "      <th>gamma</th>\n",
       "      <th>learning_rate</th>\n",
       "      <th>n_hiddens_list</th>\n",
       "      <th>n_opt_iterations</th>\n",
       "      <th>n_steps_per_trial</th>\n",
       "      <th>n_trials</th>\n",
       "      <th>polar_coord</th>\n",
       "      <th>mean_last_20_r</th>\n",
       "      <th>state_funcs</th>\n",
       "    </tr>\n",
       "  </thead>\n",
       "  <tbody>\n",
       "    <tr>\n",
       "      <th>8</th>\n",
       "      <td>elu</td>\n",
       "      <td>0.01</td>\n",
       "      <td>0.8</td>\n",
       "      <td>0.001</td>\n",
       "      <td>[512, 512]</td>\n",
       "      <td>35</td>\n",
       "      <td>256</td>\n",
       "      <td>10000</td>\n",
       "      <td>True</td>\n",
       "      <td>0.411637</td>\n",
       "      <td>None</td>\n",
       "    </tr>\n",
       "    <tr>\n",
       "      <th>10</th>\n",
       "      <td>elu</td>\n",
       "      <td>0.01</td>\n",
       "      <td>0.8</td>\n",
       "      <td>0.001</td>\n",
       "      <td>[512, 512]</td>\n",
       "      <td>75</td>\n",
       "      <td>256</td>\n",
       "      <td>10000</td>\n",
       "      <td>True</td>\n",
       "      <td>0.445211</td>\n",
       "      <td>None</td>\n",
       "    </tr>\n",
       "    <tr>\n",
       "      <th>4</th>\n",
       "      <td>elu</td>\n",
       "      <td>0.01</td>\n",
       "      <td>0.8</td>\n",
       "      <td>0.001</td>\n",
       "      <td>[256, 256]</td>\n",
       "      <td>75</td>\n",
       "      <td>256</td>\n",
       "      <td>10000</td>\n",
       "      <td>True</td>\n",
       "      <td>0.498764</td>\n",
       "      <td>None</td>\n",
       "    </tr>\n",
       "    <tr>\n",
       "      <th>2</th>\n",
       "      <td>elu</td>\n",
       "      <td>0.01</td>\n",
       "      <td>0.8</td>\n",
       "      <td>0.001</td>\n",
       "      <td>[256, 256]</td>\n",
       "      <td>35</td>\n",
       "      <td>256</td>\n",
       "      <td>10000</td>\n",
       "      <td>True</td>\n",
       "      <td>0.543085</td>\n",
       "      <td>None</td>\n",
       "    </tr>\n",
       "    <tr>\n",
       "      <th>9</th>\n",
       "      <td>elu</td>\n",
       "      <td>0.01</td>\n",
       "      <td>0.8</td>\n",
       "      <td>0.001</td>\n",
       "      <td>[512, 512]</td>\n",
       "      <td>35</td>\n",
       "      <td>256</td>\n",
       "      <td>10000</td>\n",
       "      <td>False</td>\n",
       "      <td>0.55045</td>\n",
       "      <td>None</td>\n",
       "    </tr>\n",
       "  </tbody>\n",
       "</table>\n",
       "</div>"
      ],
      "text/plain": [
       "   act_func  final_epsilon  gamma  learning_rate n_hiddens_list  \\\n",
       "8       elu           0.01    0.8          0.001     [512, 512]   \n",
       "10      elu           0.01    0.8          0.001     [512, 512]   \n",
       "4       elu           0.01    0.8          0.001     [256, 256]   \n",
       "2       elu           0.01    0.8          0.001     [256, 256]   \n",
       "9       elu           0.01    0.8          0.001     [512, 512]   \n",
       "\n",
       "    n_opt_iterations  n_steps_per_trial  n_trials  polar_coord mean_last_20_r  \\\n",
       "8                 35                256     10000         True       0.411637   \n",
       "10                75                256     10000         True       0.445211   \n",
       "4                 75                256     10000         True       0.498764   \n",
       "2                 35                256     10000         True       0.543085   \n",
       "9                 35                256     10000        False        0.55045   \n",
       "\n",
       "   state_funcs  \n",
       "8         None  \n",
       "10        None  \n",
       "4         None  \n",
       "2         None  \n",
       "9         None  "
      ]
     },
     "execution_count": 274,
     "metadata": {},
     "output_type": "execute_result"
    }
   ],
   "source": [
    "# Take a look at the parameters from the best model\n",
    "# sort by mean_last_20_r\n",
    "\n",
    "best_index = experiment_1['params'].sort_values('mean_last_20_r').head(1).index\n",
    "print(f'index of best model: {best_index[0]}')\n",
    "\n",
    "experiment_1['params'].sort_values('mean_last_20_r').head()"
   ]
  },
  {
   "cell_type": "code",
   "execution_count": 275,
   "metadata": {},
   "outputs": [
    {
     "data": {
      "text/plain": [
       "act_func                    elu\n",
       "final_epsilon              0.01\n",
       "gamma                       0.8\n",
       "learning_rate             0.001\n",
       "n_hiddens_list       [512, 512]\n",
       "n_opt_iterations             35\n",
       "n_steps_per_trial           256\n",
       "n_trials                  10000\n",
       "polar_coord                True\n",
       "mean_last_20_r         0.411637\n",
       "state_funcs                None\n",
       "Name: 8, dtype: object"
      ]
     },
     "execution_count": 275,
     "metadata": {},
     "output_type": "execute_result"
    }
   ],
   "source": [
    "# look at the best parameters from the data frame\n",
    "experiment_1['params'].loc[best_index[0],:]"
   ]
  },
  {
   "cell_type": "code",
   "execution_count": 276,
   "metadata": {},
   "outputs": [
    {
     "data": {
      "image/png": "[encoded data removed]",
      "text/plain": [
       "<Figure size 720x720 with 3 Axes>"
      ]
     },
     "metadata": {
      "needs_background": "light"
     },
     "output_type": "display_data"
    }
   ],
   "source": [
    "plot_experiment(experiment_1, best_index[0])"
   ]
  },
  {
   "cell_type": "markdown",
   "metadata": {},
   "source": [
    "There is quite a bit of volatility towards the end of training in `Mean R per Trial` and `MSE` for the Qnet.  Perhaps some additional training might help.  Let's set up a heat map to understand where a new grid search could be directed to improve model performance.\n",
    "\n",
    "## Set Up the Data Frame to Visualize the Results in a Heat Map\n",
    "\n",
    "* `mean_last_20_r` needs to be converted to a numeric value\n",
    "* `n_hiddens_list` needs to be converted to a string for grouping\n",
    "* Data will be pivoted with `n_opt_iterations` on the columns, `mean_last_20_r` as the values, and the remaining parameter search variables as groups on the rows"
   ]
  },
  {
   "cell_type": "code",
   "execution_count": 277,
   "metadata": {},
   "outputs": [],
   "source": [
    "# convert mean_last_20_r to numeric for use in pivot table\n",
    "experiment_1['params'].loc[:,'mean_last_20_r'] = pd.to_numeric(experiment_1['params'].loc[:,'mean_last_20_r'])\n",
    "\n",
    "# convert n_hiddens_list to string for use in pivot table\n",
    "nh_string = [str(nh) for nh in experiment_1['params'].loc[:,'n_hiddens_list']]\n",
    "experiment_1['params']['nh_string'] = nh_string"
   ]
  },
  {
   "cell_type": "code",
   "execution_count": 278,
   "metadata": {},
   "outputs": [
    {
     "name": "stdout",
     "output_type": "stream",
     "text": [
      "<class 'pandas.core.frame.DataFrame'>\n",
      "RangeIndex: 18 entries, 0 to 17\n",
      "Data columns (total 12 columns):\n",
      " #   Column             Non-Null Count  Dtype  \n",
      "---  ------             --------------  -----  \n",
      " 0   act_func           18 non-null     object \n",
      " 1   final_epsilon      18 non-null     float64\n",
      " 2   gamma              18 non-null     float64\n",
      " 3   learning_rate      18 non-null     float64\n",
      " 4   n_hiddens_list     18 non-null     object \n",
      " 5   n_opt_iterations   18 non-null     int64  \n",
      " 6   n_steps_per_trial  18 non-null     int64  \n",
      " 7   n_trials           18 non-null     int64  \n",
      " 8   polar_coord        18 non-null     bool   \n",
      " 9   mean_last_20_r     18 non-null     float64\n",
      " 10  state_funcs        0 non-null      object \n",
      " 11  nh_string          18 non-null     object \n",
      "dtypes: bool(1), float64(4), int64(3), object(4)\n",
      "memory usage: 1.7+ KB\n"
     ]
    }
   ],
   "source": [
    "experiment_1['params'].info()"
   ]
  },
  {
   "cell_type": "code",
   "execution_count": 280,
   "metadata": {},
   "outputs": [
    {
     "data": {
      "text/html": [
       "<div>\n",
       "<style scoped>\n",
       "    .dataframe tbody tr th:only-of-type {\n",
       "        vertical-align: middle;\n",
       "    }\n",
       "\n",
       "    .dataframe tbody tr th {\n",
       "        vertical-align: top;\n",
       "    }\n",
       "\n",
       "    .dataframe thead th {\n",
       "        text-align: right;\n",
       "    }\n",
       "</style>\n",
       "<table border=\"1\" class=\"dataframe\">\n",
       "  <thead>\n",
       "    <tr style=\"text-align: right;\">\n",
       "      <th></th>\n",
       "      <th></th>\n",
       "      <th></th>\n",
       "      <th></th>\n",
       "      <th>n_opt_iterations</th>\n",
       "      <th>15</th>\n",
       "      <th>35</th>\n",
       "      <th>75</th>\n",
       "    </tr>\n",
       "    <tr>\n",
       "      <th>polar_coord</th>\n",
       "      <th>act_func</th>\n",
       "      <th>nh_string</th>\n",
       "      <th>n_trials</th>\n",
       "      <th>n_steps_per_trial</th>\n",
       "      <th></th>\n",
       "      <th></th>\n",
       "      <th></th>\n",
       "    </tr>\n",
       "  </thead>\n",
       "  <tbody>\n",
       "    <tr>\n",
       "      <th rowspan=\"3\" valign=\"top\">False</th>\n",
       "      <th rowspan=\"3\" valign=\"top\">elu</th>\n",
       "      <th>[256, 256]</th>\n",
       "      <th>10000</th>\n",
       "      <th>256</th>\n",
       "      <td>1.246807</td>\n",
       "      <td>0.658740</td>\n",
       "      <td>0.588032</td>\n",
       "    </tr>\n",
       "    <tr>\n",
       "      <th>[512, 512]</th>\n",
       "      <th>10000</th>\n",
       "      <th>256</th>\n",
       "      <td>1.294156</td>\n",
       "      <td>0.550450</td>\n",
       "      <td>0.564696</td>\n",
       "    </tr>\n",
       "    <tr>\n",
       "      <th>[768, 768]</th>\n",
       "      <th>10000</th>\n",
       "      <th>256</th>\n",
       "      <td>1.627134</td>\n",
       "      <td>0.641656</td>\n",
       "      <td>0.709954</td>\n",
       "    </tr>\n",
       "    <tr>\n",
       "      <th rowspan=\"3\" valign=\"top\">True</th>\n",
       "      <th rowspan=\"3\" valign=\"top\">elu</th>\n",
       "      <th>[256, 256]</th>\n",
       "      <th>10000</th>\n",
       "      <th>256</th>\n",
       "      <td>0.695972</td>\n",
       "      <td>0.543085</td>\n",
       "      <td>0.498764</td>\n",
       "    </tr>\n",
       "    <tr>\n",
       "      <th>[512, 512]</th>\n",
       "      <th>10000</th>\n",
       "      <th>256</th>\n",
       "      <td>0.651145</td>\n",
       "      <td>0.411637</td>\n",
       "      <td>0.445211</td>\n",
       "    </tr>\n",
       "    <tr>\n",
       "      <th>[768, 768]</th>\n",
       "      <th>10000</th>\n",
       "      <th>256</th>\n",
       "      <td>0.790522</td>\n",
       "      <td>0.596726</td>\n",
       "      <td>0.808200</td>\n",
       "    </tr>\n",
       "  </tbody>\n",
       "</table>\n",
       "</div>"
      ],
      "text/plain": [
       "n_opt_iterations                                                  15  \\\n",
       "polar_coord act_func nh_string  n_trials n_steps_per_trial             \n",
       "False       elu      [256, 256] 10000    256                1.246807   \n",
       "                     [512, 512] 10000    256                1.294156   \n",
       "                     [768, 768] 10000    256                1.627134   \n",
       "True        elu      [256, 256] 10000    256                0.695972   \n",
       "                     [512, 512] 10000    256                0.651145   \n",
       "                     [768, 768] 10000    256                0.790522   \n",
       "\n",
       "n_opt_iterations                                                  35        75  \n",
       "polar_coord act_func nh_string  n_trials n_steps_per_trial                      \n",
       "False       elu      [256, 256] 10000    256                0.658740  0.588032  \n",
       "                     [512, 512] 10000    256                0.550450  0.564696  \n",
       "                     [768, 768] 10000    256                0.641656  0.709954  \n",
       "True        elu      [256, 256] 10000    256                0.543085  0.498764  \n",
       "                     [512, 512] 10000    256                0.411637  0.445211  \n",
       "                     [768, 768] 10000    256                0.596726  0.808200  "
      ]
     },
     "execution_count": 280,
     "metadata": {},
     "output_type": "execute_result"
    }
   ],
   "source": [
    "index_cols = ['polar_coord', 'act_func', 'nh_string', 'n_trials', 'n_steps_per_trial']\n",
    "pivot_results = experiment_1['params'].pivot_table(values='mean_last_20_r', \n",
    "                                                 index=index_cols,\n",
    "                                                 columns='n_opt_iterations')\n",
    "pivot_results"
   ]
  },
  {
   "cell_type": "code",
   "execution_count": 281,
   "metadata": {},
   "outputs": [
    {
     "data": {
      "image/png": "[encoded data removed]",
      "text/plain": [
       "<Figure size 576x324 with 2 Axes>"
      ]
     },
     "metadata": {
      "needs_background": "light"
     },
     "output_type": "display_data"
    }
   ],
   "source": [
    "sns.heatmap(pivot_results);"
   ]
  },
  {
   "cell_type": "markdown",
   "metadata": {},
   "source": [
    "**Thoughts on Heat Map:**\n",
    "* The models that included polar coordinates in the state space performed better.\n",
    "* The additional complexity of the [768, 768] model did provide any benefit to learning.\n",
    "* Additional optimization steps may have improved the results of the [256,256] model which provided results that were pretty close to the [512,512] model.\n",
    "* Repeating the experiment with more steps per trail and optimization steps might yield further model improvements."
   ]
  },
  {
   "cell_type": "markdown",
   "metadata": {},
   "source": [
    "## Examine the Animation to See How Well the Model Learned"
   ]
  },
  {
   "cell_type": "code",
   "execution_count": 282,
   "metadata": {},
   "outputs": [
    {
     "data": {
      "image/png": "[encoded data removed]",
      "text/plain": [
       "<Figure size 576x576 with 1 Axes>"
      ]
     },
     "metadata": {
      "needs_background": "light"
     },
     "output_type": "display_data"
    },
    {
     "data": {
      "image/png": "[encoded data removed]",
      "text/plain": [
       "<Figure size 576x576 with 1 Axes>"
      ]
     },
     "metadata": {
      "needs_background": "light"
     },
     "output_type": "display_data"
    },
    {
     "data": {
      "image/png": "[encoded data removed]",
      "text/plain": [
       "<Figure size 576x576 with 1 Axes>"
      ]
     },
     "metadata": {
      "needs_background": "light"
     },
     "output_type": "display_data"
    },
    {
     "data": {
      "image/png": "[encoded data removed]",
      "text/plain": [
       "<Figure size 576x576 with 1 Axes>"
      ]
     },
     "metadata": {
      "needs_background": "light"
     },
     "output_type": "display_data"
    },
    {
     "data": {
      "image/png": "[encoded data removed]",
      "text/plain": [
       "<Figure size 576x576 with 1 Axes>"
      ]
     },
     "metadata": {
      "needs_background": "light"
     },
     "output_type": "display_data"
    }
   ],
   "source": [
    "robot = experiment_1['robot']\n",
    "# get state_funcs based on boolean value of polar_coord\n",
    "state_funcs = get_state_functions(experiment_1['params'].loc[best_index[0],'polar_coord'])\n",
    "\n",
    "for i in range(5):\n",
    "    if random_goal:\n",
    "        robot.set_rand_goal()\n",
    "    initial_state(robot)\n",
    "    robot.animate(50, best_Qnet, state_funcs['state_f'])"
   ]
  },
  {
   "cell_type": "code",
   "execution_count": 283,
   "metadata": {},
   "outputs": [
    {
     "data": {
      "image/png": "[encoded data removed]",
      "text/plain": [
       "<Figure size 576x576 with 1 Axes>"
      ]
     },
     "metadata": {
      "needs_background": "light"
     },
     "output_type": "display_data"
    }
   ],
   "source": [
    "np.random.seed(4444)\n",
    "initial_state(robot)\n",
    "\n",
    "robot.animate(100, best_Qnet, state_funcs['state_f'], show_all_steps=True)"
   ]
  },
  {
   "cell_type": "markdown",
   "metadata": {},
   "source": [
    "## Summary of Experiment \n",
    "\n",
    "* Adding polar coordinates is helpful but the model complexity and training steps need to be increased so the model can learn how to use the additional information.\n",
    "\n",
    "* Slower training, i.e. more steps per trial, helped the models with variable goals learn the best actions for the variable goal state spaces.\n",
    "\n",
    "* Additional testing with activation functions could be worthwhile.  I did some testing with ELU, ReLU, and Tanh and in these tests ELU performed better but these test were not exhaustive.  Given additional time tuning in the activation functions in the parameter grid would be interesting.\n",
    "\n",
    "* The ADAM optimizer was used throughout the experiment.  A couple runs were tested using SGD and a couple of learning rate decay strategies but ADAM performed better in this limited testing. This is another area where further testing may prove beneficial."
   ]
  },
  {
   "cell_type": "markdown",
   "metadata": {},
   "source": [
    "## Next Steps\n",
    "\n",
    "### Implement Parallel Training \n",
    "\n",
    "Torch has a drop in replacement for Python's `multiprocessing` package. Further work can be directed toward implementing the training function, so it can be run in parallel in order to speed up parameter searching.\n",
    "\n",
    "https://pytorch.org/docs/master/notes/multiprocessing.html\n",
    "\n",
    "### Try Building a RL Model for Robots with More Links and More Actions\n",
    "\n",
    "The action space could be increased from `[-0.1, 0.0, 0.1]` to something like `[-0.1, -0.05, 0.0, 0.05, 0.1]` in order to give the robot greater precision. The number of links could be increased as well in order to give the robot greater flexibility. Each of the these changes will increase the training complexity and training time. Implementing parallel training would help reduce the training time."
   ]
  }
 ],
 "metadata": {
  "kernelspec": {
   "display_name": "Python 3",
   "language": "python",
   "name": "python3"
  },
  "language_info": {
   "codemirror_mode": {
    "name": "ipython",
    "version": 3
   },
   "file_extension": ".py",
   "mimetype": "text/x-python",
   "name": "python",
   "nbconvert_exporter": "python",
   "pygments_lexer": "ipython3",
   "version": "3.7.9"
  },
  "toc": {
   "base_numbering": 1,
   "nav_menu": {},
   "number_sections": true,
   "sideBar": true,
   "skip_h1_title": false,
   "title_cell": "Table of Contents",
   "title_sidebar": "Contents",
   "toc_cell": true,
   "toc_position": {},
   "toc_section_display": true,
   "toc_window_display": true
  }
 },
 "nbformat": 4,
 "nbformat_minor": 4
}
